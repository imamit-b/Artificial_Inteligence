{
 "cells": [
  {
   "cell_type": "code",
   "execution_count": 1,
   "id": "943acc0c",
   "metadata": {},
   "outputs": [],
   "source": [
    "import spacy\n",
    "nlp=spacy.load(\"en_core_web_sm\")"
   ]
  },
  {
   "cell_type": "code",
   "execution_count": 2,
   "id": "aacaa99b",
   "metadata": {},
   "outputs": [
    {
     "data": {
      "text/plain": [
       "['tok2vec', 'tagger', 'parser', 'attribute_ruler', 'lemmatizer', 'ner']"
      ]
     },
     "execution_count": 2,
     "metadata": {},
     "output_type": "execute_result"
    }
   ],
   "source": [
    "nlp.pipe_names"
   ]
  },
  {
   "cell_type": "code",
   "execution_count": 5,
   "id": "9cbd7a6e",
   "metadata": {},
   "outputs": [
    {
     "name": "stdout",
     "output_type": "stream",
     "text": [
      "Elon | PROPN | proper noun | NNP | noun, proper singular\n",
      "flew | VERB | verb | VBD | verb, past tense\n",
      "to | ADP | adposition | IN | conjunction, subordinating or preposition\n",
      "mars | NOUN | noun | NNS | noun, plural\n",
      "yesterday | NOUN | noun | NN | noun, singular or mass\n",
      ". | PUNCT | punctuation | . | punctuation mark, sentence closer\n",
      "He | PRON | pronoun | PRP | pronoun, personal\n",
      "carried | VERB | verb | VBD | verb, past tense\n",
      "briyani | ADJ | adjective | JJ | adjective (English), other noun-modifier (Chinese)\n",
      "masala | NOUN | noun | NN | noun, singular or mass\n",
      "with | ADP | adposition | IN | conjunction, subordinating or preposition\n",
      "him | PRON | pronoun | PRP | pronoun, personal\n"
     ]
    }
   ],
   "source": [
    "doc = nlp(\"Elon flew to mars yesterday.He carried briyani masala with him\")\n",
    "\n",
    "for token in doc:\n",
    "    print(token.text,\"|\",token.pos_,\"|\",spacy.explain(token.pos_),\"|\",token.tag_,\"|\",spacy.explain(token.tag_))"
   ]
  },
  {
   "cell_type": "code",
   "execution_count": 6,
   "id": "0478ba23",
   "metadata": {},
   "outputs": [],
   "source": [
    "report=\"Estimate Momentum measures change in analyst sentiment over time and may be an indicator of future price movements. The Change in Consensus chart shows the current, 1 week ago, and 1 month ago consensus earnings per share (EPS*) forecasts. For the fiscal quarter endingMar 2023 , the consensus EPS* forecast has remained the same over the past week at 2.22 and decreased over the past month from 2.33 to 2.22(4.72%). Of the 12 analysts making quarterly forecasts, none raised and 0 lowered their forecast. For the fiscal year ending Jun 2023 , the consensus EPS* forecast has remained the same over the past week at 9.34 and decreased over the past month from 9.51 to 9.34(1.79%). Of the 11 analysts making yearly forecasts, 1raised and 10 lowered their forecast.\""
   ]
  },
  {
   "cell_type": "code",
   "execution_count": 8,
   "id": "98f58841",
   "metadata": {},
   "outputs": [],
   "source": [
    "doc=nlp(report)\n",
    "\n",
    "filtered_tokens=[]\n",
    "\n",
    "for token in doc:\n",
    "    if token.pos_ not in[\"space\",\"x\",\"PUNCT\"]:\n",
    "        filtered_tokens.append(token)"
   ]
  },
  {
   "cell_type": "code",
   "execution_count": 10,
   "id": "44c6ceac",
   "metadata": {},
   "outputs": [
    {
     "data": {
      "text/plain": [
       "[Estimate, Momentum, measures, change, in, analyst, sentiment, over, time, and]"
      ]
     },
     "execution_count": 10,
     "metadata": {},
     "output_type": "execute_result"
    }
   ],
   "source": [
    "filtered_tokens[:10]"
   ]
  },
  {
   "cell_type": "code",
   "execution_count": 14,
   "id": "3b818916",
   "metadata": {},
   "outputs": [
    {
     "data": {
      "text/plain": [
       "{96: 12,\n",
       " 92: 33,\n",
       " 85: 19,\n",
       " 89: 6,\n",
       " 87: 4,\n",
       " 90: 15,\n",
       " 84: 12,\n",
       " 97: 16,\n",
       " 100: 11,\n",
       " 93: 15,\n",
       " 86: 2,\n",
       " 99: 1,\n",
       " 95: 2}"
      ]
     },
     "execution_count": 14,
     "metadata": {},
     "output_type": "execute_result"
    }
   ],
   "source": [
    "count_pos=doc.count_by(spacy.attrs.POS)\n",
    "count_pos"
   ]
  },
  {
   "cell_type": "code",
   "execution_count": 15,
   "id": "378a5ad3",
   "metadata": {},
   "outputs": [
    {
     "data": {
      "text/plain": [
       "'PROPN'"
      ]
     },
     "execution_count": 15,
     "metadata": {},
     "output_type": "execute_result"
    }
   ],
   "source": [
    "doc.vocab[96].text"
   ]
  },
  {
   "cell_type": "code",
   "execution_count": 17,
   "id": "8465d6cd",
   "metadata": {},
   "outputs": [
    {
     "name": "stdout",
     "output_type": "stream",
     "text": [
      "PROPN | 12\n",
      "NOUN | 33\n",
      "ADP | 19\n",
      "CCONJ | 6\n",
      "AUX | 4\n",
      "DET | 15\n",
      "ADJ | 12\n",
      "PUNCT | 16\n",
      "VERB | 11\n",
      "NUM | 15\n",
      "ADV | 2\n",
      "SYM | 1\n",
      "PRON | 2\n"
     ]
    }
   ],
   "source": [
    "for k,v in count_pos.items():\n",
    "    print(doc.vocab[k].text,\"|\",v)"
   ]
  },
  {
   "cell_type": "code",
   "execution_count": null,
   "id": "2070305e",
   "metadata": {},
   "outputs": [],
   "source": []
  }
 ],
 "metadata": {
  "kernelspec": {
   "display_name": "Python 3 (ipykernel)",
   "language": "python",
   "name": "python3"
  },
  "language_info": {
   "codemirror_mode": {
    "name": "ipython",
    "version": 3
   },
   "file_extension": ".py",
   "mimetype": "text/x-python",
   "name": "python",
   "nbconvert_exporter": "python",
   "pygments_lexer": "ipython3",
   "version": "3.9.12"
  }
 },
 "nbformat": 4,
 "nbformat_minor": 5
}
