{
 "cells": [
  {
   "cell_type": "code",
   "execution_count": 1,
   "id": "b339d49d",
   "metadata": {},
   "outputs": [],
   "source": [
    "import spacy\n",
    "\n",
    "nlp=spacy.load(\"en_core_web_lg\")"
   ]
  },
  {
   "cell_type": "code",
   "execution_count": 9,
   "id": "cd87ffb3",
   "metadata": {},
   "outputs": [
    {
     "name": "stdout",
     "output_type": "stream",
     "text": [
      "Amit || vector: True || OutOfVocabulary: False\n",
      "is || vector: True || OutOfVocabulary: False\n",
      "good || vector: True || OutOfVocabulary: False\n",
      "kem || vector: False || OutOfVocabulary: True\n"
     ]
    }
   ],
   "source": [
    "doc=nlp(\"Amit is good kem\")\n",
    "\n",
    "for token in doc:\n",
    "    print(token.text,\"||\",\"vector:\",token.has_vector,\"||\",\"OutOfVocabulary:\",token.is_oov)"
   ]
  },
  {
   "cell_type": "code",
   "execution_count": 4,
   "id": "b2d5e64f",
   "metadata": {},
   "outputs": [
    {
     "data": {
      "text/plain": [
       "(300,)"
      ]
     },
     "execution_count": 4,
     "metadata": {},
     "output_type": "execute_result"
    }
   ],
   "source": [
    "doc[0].vector.shape"
   ]
  },
  {
   "cell_type": "code",
   "execution_count": 12,
   "id": "b8d8d6ad",
   "metadata": {},
   "outputs": [
    {
     "data": {
      "text/plain": [
       "(300,)"
      ]
     },
     "execution_count": 12,
     "metadata": {},
     "output_type": "execute_result"
    }
   ],
   "source": [
    "base_token=nlp(\"bread\")\n",
    "base_token.vector.shape"
   ]
  },
  {
   "cell_type": "code",
   "execution_count": 14,
   "id": "dac188ee",
   "metadata": {},
   "outputs": [
    {
     "name": "stdout",
     "output_type": "stream",
     "text": [
      "bread<->bread: 1.0\n",
      "sandwich<->bread: 0.6341067010130894\n",
      "burger<->bread: 0.47520687769584247\n",
      "car<->bread: 0.06451532596945217\n",
      "tiger<->bread: 0.04764611272488976\n",
      "human<->bread: 0.2151154210812192\n",
      "wheat<->bread: 0.615036141030184\n"
     ]
    }
   ],
   "source": [
    "doc=nlp(\"bread sandwich burger car tiger human wheat\")\n",
    "\n",
    "for token in doc:\n",
    "    print(f\"{token.text}<->{base_token.text}:\",token.similarity(base_token))"
   ]
  },
  {
   "cell_type": "code",
   "execution_count": 15,
   "id": "bf3135c4",
   "metadata": {},
   "outputs": [],
   "source": [
    "def print_similarity(base_word,words_to_compare):\n",
    "    base_token=nlp(base_word)\n",
    "    doc=nlp(words_to_compare)\n",
    "    for token in doc:\n",
    "        print(f\"{token.text}<->{base_token.text}:\",token.similarity(base_token))"
   ]
  },
  {
   "cell_type": "code",
   "execution_count": 16,
   "id": "8ba7353d",
   "metadata": {},
   "outputs": [
    {
     "name": "stdout",
     "output_type": "stream",
     "text": [
      "apple<->iphone: 0.4387907748060368\n",
      "samsung<->iphone: 0.6708590303423401\n",
      "iphone<->iphone: 1.0\n",
      "dog<->iphone: 0.08211864228011527\n",
      "cat<->iphone: 0.11430552710784589\n"
     ]
    }
   ],
   "source": [
    "print_similarity(\"iphone\",\"apple samsung iphone dog cat\")"
   ]
  },
  {
   "cell_type": "code",
   "execution_count": 21,
   "id": "ebe0674d",
   "metadata": {},
   "outputs": [],
   "source": [
    "king=nlp.vocab[\"king\"].vector\n",
    "man=nlp.vocab[\"man\"].vector\n",
    "woman=nlp.vocab[\"woman\"].vector\n",
    "queen=nlp.vocab[\"queen\"].vector\n",
    "\n",
    "result=king-man+woman"
   ]
  },
  {
   "cell_type": "code",
   "execution_count": 22,
   "id": "9f2b66b8",
   "metadata": {},
   "outputs": [
    {
     "data": {
      "text/plain": [
       "array([[0.6178014]], dtype=float32)"
      ]
     },
     "execution_count": 22,
     "metadata": {},
     "output_type": "execute_result"
    }
   ],
   "source": [
    "from sklearn.metrics.pairwise import cosine_similarity\n",
    "\n",
    "cosine_similarity([result],[queen])"
   ]
  },
  {
   "cell_type": "code",
   "execution_count": null,
   "id": "a5cdb038",
   "metadata": {},
   "outputs": [],
   "source": []
  }
 ],
 "metadata": {
  "kernelspec": {
   "display_name": "Python 3 (ipykernel)",
   "language": "python",
   "name": "python3"
  },
  "language_info": {
   "codemirror_mode": {
    "name": "ipython",
    "version": 3
   },
   "file_extension": ".py",
   "mimetype": "text/x-python",
   "name": "python",
   "nbconvert_exporter": "python",
   "pygments_lexer": "ipython3",
   "version": "3.9.12"
  }
 },
 "nbformat": 4,
 "nbformat_minor": 5
}
