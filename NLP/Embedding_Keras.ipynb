{
 "cells": [
  {
   "cell_type": "code",
   "execution_count": 1,
   "id": "5b803a77",
   "metadata": {},
   "outputs": [],
   "source": [
    "import numpy as np\n",
    "from tensorflow.keras.preprocessing.text import one_hot\n",
    "from tensorflow.keras.preprocessing.sequence import pad_sequences\n",
    "from tensorflow.keras.models import Sequential \n",
    "from tensorflow.keras.layers import Dense\n",
    "from tensorflow.keras.layers import Flatten\n",
    "from tensorflow.keras.layers import Embedding"
   ]
  },
  {
   "cell_type": "code",
   "execution_count": 2,
   "id": "5ecde4fe",
   "metadata": {},
   "outputs": [],
   "source": [
    "reviews=['nice,food',\n",
    "        'amazing restsurant',\n",
    "        'too good',\n",
    "        'just loved it!',\n",
    "        'will go again',\n",
    "         'horrible food',\n",
    "         'never go there',\n",
    "         'poor service',\n",
    "         'poor quality',\n",
    "         'needs improvement']\n",
    "\n",
    "sentiment=np.array([1,1,1,1,1,0,0,0,0,0])"
   ]
  },
  {
   "cell_type": "code",
   "execution_count": 3,
   "id": "b54e50b7",
   "metadata": {},
   "outputs": [
    {
     "data": {
      "text/plain": [
       "[25, 27]"
      ]
     },
     "execution_count": 3,
     "metadata": {},
     "output_type": "execute_result"
    }
   ],
   "source": [
    "one_hot(reviews[0],30)"
   ]
  },
  {
   "cell_type": "code",
   "execution_count": 7,
   "id": "4fb99764",
   "metadata": {},
   "outputs": [
    {
     "name": "stdout",
     "output_type": "stream",
     "text": [
      "[[25, 27], [13, 27], [7, 9], [24, 22, 22], [23, 28, 20], [13, 27], [17, 28, 2], [18, 21], [18, 27], [18, 16]]\n"
     ]
    }
   ],
   "source": [
    "vocab_size=30\n",
    "encoded_reviews=[one_hot(d,vocab_size)for d in reviews]\n",
    "print(encoded_reviews)"
   ]
  },
  {
   "cell_type": "code",
   "execution_count": 9,
   "id": "bbde03fb",
   "metadata": {},
   "outputs": [
    {
     "data": {
      "text/plain": [
       "array([[25, 27,  0],\n",
       "       [13, 27,  0],\n",
       "       [ 7,  9,  0],\n",
       "       [24, 22, 22],\n",
       "       [23, 28, 20],\n",
       "       [13, 27,  0],\n",
       "       [17, 28,  2],\n",
       "       [18, 21,  0],\n",
       "       [18, 27,  0],\n",
       "       [18, 16,  0]])"
      ]
     },
     "execution_count": 9,
     "metadata": {},
     "output_type": "execute_result"
    }
   ],
   "source": [
    "max_len=3\n",
    "\n",
    "paded_reviews=pad_sequences(encoded_reviews,maxlen=max_len,padding=\"post\")\n",
    "\n",
    "paded_reviews"
   ]
  },
  {
   "cell_type": "code",
   "execution_count": 15,
   "id": "0ade8a5f",
   "metadata": {},
   "outputs": [],
   "source": [
    "embeded_vector_size=4\n",
    "\n",
    "model=Sequential()\n",
    "model.add(Embedding(vocab_size,embeded_vector_size,input_length=max_len,name='embedding'))\n",
    "model.add(Flatten())\n",
    "model.add(Dense(1,activation='sigmoid'))"
   ]
  },
  {
   "cell_type": "code",
   "execution_count": 16,
   "id": "5f377b1a",
   "metadata": {},
   "outputs": [],
   "source": [
    "x=paded_reviews\n",
    "y=sentiment"
   ]
  },
  {
   "cell_type": "code",
   "execution_count": 17,
   "id": "50352291",
   "metadata": {},
   "outputs": [
    {
     "name": "stdout",
     "output_type": "stream",
     "text": [
      "Model: \"sequential_2\"\n",
      "_________________________________________________________________\n",
      " Layer (type)                Output Shape              Param #   \n",
      "=================================================================\n",
      " embedding (Embedding)       (None, 3, 4)              120       \n",
      "                                                                 \n",
      " flatten_1 (Flatten)         (None, 12)                0         \n",
      "                                                                 \n",
      " dense_1 (Dense)             (None, 1)                 13        \n",
      "                                                                 \n",
      "=================================================================\n",
      "Total params: 133\n",
      "Trainable params: 133\n",
      "Non-trainable params: 0\n",
      "_________________________________________________________________\n"
     ]
    }
   ],
   "source": [
    "model.compile(optimizer='adam',loss='binary_crossentropy',metrics=['accuracy'])\n",
    "model.summary()"
   ]
  },
  {
   "cell_type": "code",
   "execution_count": 18,
   "id": "137acb83",
   "metadata": {},
   "outputs": [
    {
     "data": {
      "text/plain": [
       "<keras.callbacks.History at 0x195e9645970>"
      ]
     },
     "execution_count": 18,
     "metadata": {},
     "output_type": "execute_result"
    }
   ],
   "source": [
    "model.fit(x,y,epochs=50,verbose=0)"
   ]
  },
  {
   "cell_type": "code",
   "execution_count": 19,
   "id": "c5710a88",
   "metadata": {},
   "outputs": [
    {
     "name": "stdout",
     "output_type": "stream",
     "text": [
      "1/1 [==============================] - 0s 479ms/step - loss: 0.6407 - accuracy: 0.9000\n"
     ]
    }
   ],
   "source": [
    "loss,accuracy=model.evaluate(x,y)"
   ]
  },
  {
   "cell_type": "code",
   "execution_count": 23,
   "id": "67240d5d",
   "metadata": {},
   "outputs": [
    {
     "data": {
      "text/plain": [
       "30"
      ]
     },
     "execution_count": 23,
     "metadata": {},
     "output_type": "execute_result"
    }
   ],
   "source": [
    "weights=model.get_layer('embedding').get_weights()[0]\n",
    "len(weights)"
   ]
  },
  {
   "cell_type": "code",
   "execution_count": 24,
   "id": "3ae5db45",
   "metadata": {},
   "outputs": [
    {
     "data": {
      "text/plain": [
       "array([0.04686635, 0.02893824, 0.02315906, 0.08014657], dtype=float32)"
      ]
     },
     "execution_count": 24,
     "metadata": {},
     "output_type": "execute_result"
    }
   ],
   "source": [
    "weights[25]"
   ]
  },
  {
   "cell_type": "code",
   "execution_count": null,
   "id": "461125c5",
   "metadata": {},
   "outputs": [],
   "source": []
  }
 ],
 "metadata": {
  "kernelspec": {
   "display_name": "Python 3 (ipykernel)",
   "language": "python",
   "name": "python3"
  },
  "language_info": {
   "codemirror_mode": {
    "name": "ipython",
    "version": 3
   },
   "file_extension": ".py",
   "mimetype": "text/x-python",
   "name": "python",
   "nbconvert_exporter": "python",
   "pygments_lexer": "ipython3",
   "version": "3.9.12"
  }
 },
 "nbformat": 4,
 "nbformat_minor": 5
}
