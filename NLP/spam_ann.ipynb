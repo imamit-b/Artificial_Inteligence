{
 "cells": [
  {
   "cell_type": "code",
   "execution_count": 1,
   "id": "9f56ffd1",
   "metadata": {},
   "outputs": [],
   "source": [
    "import numpy as np\n",
    "from sklearn.model_selection import train_test_split\n",
    "import pandas as pd\n",
    "from sklearn.feature_extraction.text import TfidfVectorizer"
   ]
  },
  {
   "cell_type": "code",
   "execution_count": 2,
   "id": "fac4c178",
   "metadata": {},
   "outputs": [
    {
     "data": {
      "text/html": [
       "<div>\n",
       "<style scoped>\n",
       "    .dataframe tbody tr th:only-of-type {\n",
       "        vertical-align: middle;\n",
       "    }\n",
       "\n",
       "    .dataframe tbody tr th {\n",
       "        vertical-align: top;\n",
       "    }\n",
       "\n",
       "    .dataframe thead th {\n",
       "        text-align: right;\n",
       "    }\n",
       "</style>\n",
       "<table border=\"1\" class=\"dataframe\">\n",
       "  <thead>\n",
       "    <tr style=\"text-align: right;\">\n",
       "      <th></th>\n",
       "      <th>Category</th>\n",
       "      <th>Message</th>\n",
       "    </tr>\n",
       "  </thead>\n",
       "  <tbody>\n",
       "    <tr>\n",
       "      <th>0</th>\n",
       "      <td>ham</td>\n",
       "      <td>\"Go until jurong point, crazy.. Available only...</td>\n",
       "    </tr>\n",
       "    <tr>\n",
       "      <th>1</th>\n",
       "      <td>ham</td>\n",
       "      <td>Ok lar... Joking wif u oni...</td>\n",
       "    </tr>\n",
       "    <tr>\n",
       "      <th>2</th>\n",
       "      <td>spam</td>\n",
       "      <td>Free entry in 2 a wkly comp to win FA Cup fina...</td>\n",
       "    </tr>\n",
       "    <tr>\n",
       "      <th>3</th>\n",
       "      <td>ham</td>\n",
       "      <td>U dun say so early hor... U c already then say...</td>\n",
       "    </tr>\n",
       "    <tr>\n",
       "      <th>4</th>\n",
       "      <td>ham</td>\n",
       "      <td>\"Nah I don't think he goes to usf, he lives ar...</td>\n",
       "    </tr>\n",
       "  </tbody>\n",
       "</table>\n",
       "</div>"
      ],
      "text/plain": [
       "  Category                                            Message\n",
       "0      ham  \"Go until jurong point, crazy.. Available only...\n",
       "1      ham                      Ok lar... Joking wif u oni...\n",
       "2     spam  Free entry in 2 a wkly comp to win FA Cup fina...\n",
       "3      ham  U dun say so early hor... U c already then say...\n",
       "4      ham  \"Nah I don't think he goes to usf, he lives ar..."
      ]
     },
     "execution_count": 2,
     "metadata": {},
     "output_type": "execute_result"
    }
   ],
   "source": [
    "dataset=pd.read_csv(\"spam.txt\",delimiter='\\t',quoting=3)\n",
    "dataset.head()"
   ]
  },
  {
   "cell_type": "code",
   "execution_count": 3,
   "id": "8e53ed79",
   "metadata": {},
   "outputs": [],
   "source": [
    "dataset.loc[dataset['Category']=='spam','Category',]=1\n",
    "dataset.loc[dataset['Category']=='ham','Category',]=0"
   ]
  },
  {
   "cell_type": "code",
   "execution_count": 4,
   "id": "112d1a15",
   "metadata": {},
   "outputs": [
    {
     "data": {
      "text/plain": [
       "(5574, 2)"
      ]
     },
     "execution_count": 4,
     "metadata": {},
     "output_type": "execute_result"
    }
   ],
   "source": [
    "dataset.shape"
   ]
  },
  {
   "cell_type": "code",
   "execution_count": 5,
   "id": "daf57706",
   "metadata": {},
   "outputs": [
    {
     "data": {
      "text/html": [
       "<div>\n",
       "<style scoped>\n",
       "    .dataframe tbody tr th:only-of-type {\n",
       "        vertical-align: middle;\n",
       "    }\n",
       "\n",
       "    .dataframe tbody tr th {\n",
       "        vertical-align: top;\n",
       "    }\n",
       "\n",
       "    .dataframe thead th {\n",
       "        text-align: right;\n",
       "    }\n",
       "</style>\n",
       "<table border=\"1\" class=\"dataframe\">\n",
       "  <thead>\n",
       "    <tr style=\"text-align: right;\">\n",
       "      <th></th>\n",
       "      <th>Category</th>\n",
       "      <th>Message</th>\n",
       "    </tr>\n",
       "  </thead>\n",
       "  <tbody>\n",
       "    <tr>\n",
       "      <th>count</th>\n",
       "      <td>5574</td>\n",
       "      <td>5574</td>\n",
       "    </tr>\n",
       "    <tr>\n",
       "      <th>unique</th>\n",
       "      <td>2</td>\n",
       "      <td>5159</td>\n",
       "    </tr>\n",
       "    <tr>\n",
       "      <th>top</th>\n",
       "      <td>0</td>\n",
       "      <td>\"Sorry, I'll call later\"</td>\n",
       "    </tr>\n",
       "    <tr>\n",
       "      <th>freq</th>\n",
       "      <td>4827</td>\n",
       "      <td>30</td>\n",
       "    </tr>\n",
       "  </tbody>\n",
       "</table>\n",
       "</div>"
      ],
      "text/plain": [
       "        Category                   Message\n",
       "count       5574                      5574\n",
       "unique         2                      5159\n",
       "top            0  \"Sorry, I'll call later\"\n",
       "freq        4827                        30"
      ]
     },
     "execution_count": 5,
     "metadata": {},
     "output_type": "execute_result"
    }
   ],
   "source": [
    "dataset.describe()"
   ]
  },
  {
   "cell_type": "code",
   "execution_count": 5,
   "id": "dbf2ee5d",
   "metadata": {},
   "outputs": [],
   "source": [
    "import re\n",
    "import nltk"
   ]
  },
  {
   "cell_type": "code",
   "execution_count": 6,
   "id": "26e72d70",
   "metadata": {},
   "outputs": [],
   "source": [
    "from nltk.corpus import stopwords\n",
    "from nltk.stem.porter import PorterStemmer"
   ]
  },
  {
   "cell_type": "code",
   "execution_count": 7,
   "id": "70d80aa1",
   "metadata": {},
   "outputs": [],
   "source": [
    "ps=PorterStemmer()\n",
    "corpus=[]"
   ]
  },
  {
   "cell_type": "code",
   "execution_count": 8,
   "id": "d0090843",
   "metadata": {},
   "outputs": [],
   "source": [
    "for i in range(0,len(dataset)):\n",
    "    review=re.sub('[^a-zA-Z]',' ',dataset['Message'][i])\n",
    "    review=review.lower()\n",
    "    review=review.split( )\n",
    "    \n",
    "    review=[ps.stem(word) for word in review if not word in stopwords.words('english')]\n",
    "    review=' '.join(review)\n",
    "    corpus.append(review)"
   ]
  },
  {
   "cell_type": "code",
   "execution_count": 9,
   "id": "6a7564e5",
   "metadata": {},
   "outputs": [
    {
     "data": {
      "text/plain": [
       "'go jurong point crazi avail bugi n great world la e buffet cine got amor wat'"
      ]
     },
     "execution_count": 9,
     "metadata": {},
     "output_type": "execute_result"
    }
   ],
   "source": [
    "corpus[0]"
   ]
  },
  {
   "cell_type": "code",
   "execution_count": 10,
   "id": "94252ef8",
   "metadata": {},
   "outputs": [
    {
     "name": "stdout",
     "output_type": "stream",
     "text": [
      "[0 0 0 ... 0 0 0]\n"
     ]
    }
   ],
   "source": [
    "from sklearn.feature_extraction.text import CountVectorizer\n",
    "cv=CountVectorizer(max_features=5000)\n",
    "x=cv.fit_transform(corpus).toarray()\n",
    "print(x[0])"
   ]
  },
  {
   "cell_type": "code",
   "execution_count": 11,
   "id": "f90c80db",
   "metadata": {},
   "outputs": [
    {
     "data": {
      "text/plain": [
       "(5574, 5000)"
      ]
     },
     "execution_count": 11,
     "metadata": {},
     "output_type": "execute_result"
    }
   ],
   "source": [
    "x.shape"
   ]
  },
  {
   "cell_type": "code",
   "execution_count": 12,
   "id": "ca6c99b7",
   "metadata": {},
   "outputs": [
    {
     "data": {
      "text/plain": [
       "0    0\n",
       "1    0\n",
       "2    1\n",
       "3    0\n",
       "4    0\n",
       "Name: Category, dtype: object"
      ]
     },
     "execution_count": 12,
     "metadata": {},
     "output_type": "execute_result"
    }
   ],
   "source": [
    "y=dataset['Category']\n",
    "y.head()"
   ]
  },
  {
   "cell_type": "code",
   "execution_count": 13,
   "id": "f08315d9",
   "metadata": {},
   "outputs": [],
   "source": [
    "y=y.astype('int')"
   ]
  },
  {
   "cell_type": "code",
   "execution_count": 14,
   "id": "53517877",
   "metadata": {},
   "outputs": [],
   "source": [
    "from sklearn.model_selection import train_test_split\n",
    "x_train,x_test,y_train,y_test =train_test_split(x,y,test_size=0.2,random_state=0)"
   ]
  },
  {
   "cell_type": "code",
   "execution_count": 15,
   "id": "b6f44932",
   "metadata": {},
   "outputs": [],
   "source": [
    "from sklearn.preprocessing import StandardScaler\n",
    "sc=StandardScaler()\n",
    "X_train=sc.fit_transform(x_train)\n",
    "X_test=sc.fit_transform(x_test)"
   ]
  },
  {
   "cell_type": "code",
   "execution_count": 16,
   "id": "492613aa",
   "metadata": {},
   "outputs": [
    {
     "data": {
      "text/plain": [
       "array([[-0.01497718, -0.02594705, -0.01497718, ...,  0.        ,\n",
       "         0.        , -0.01497718],\n",
       "       [-0.01497718, -0.02594705, -0.01497718, ...,  0.        ,\n",
       "         0.        , -0.01497718],\n",
       "       [-0.01497718, -0.02594705, -0.01497718, ...,  0.        ,\n",
       "         0.        , -0.01497718],\n",
       "       ...,\n",
       "       [-0.01497718, -0.02594705, -0.01497718, ...,  0.        ,\n",
       "         0.        , -0.01497718],\n",
       "       [-0.01497718, -0.02594705, -0.01497718, ...,  0.        ,\n",
       "         0.        , -0.01497718],\n",
       "       [-0.01497718, -0.02594705, -0.01497718, ...,  0.        ,\n",
       "         0.        , -0.01497718]])"
      ]
     },
     "execution_count": 16,
     "metadata": {},
     "output_type": "execute_result"
    }
   ],
   "source": [
    "X_train"
   ]
  },
  {
   "cell_type": "code",
   "execution_count": 17,
   "id": "1da5dd8f",
   "metadata": {},
   "outputs": [
    {
     "data": {
      "text/plain": [
       "2523    0\n",
       "253     0\n",
       "1114    0\n",
       "3741    0\n",
       "3097    0\n",
       "       ..\n",
       "4931    1\n",
       "3264    0\n",
       "1653    1\n",
       "2607    0\n",
       "2732    0\n",
       "Name: Category, Length: 4459, dtype: int32"
      ]
     },
     "execution_count": 17,
     "metadata": {},
     "output_type": "execute_result"
    }
   ],
   "source": [
    "y_train"
   ]
  },
  {
   "cell_type": "code",
   "execution_count": 18,
   "id": "19cd6026",
   "metadata": {},
   "outputs": [],
   "source": [
    "import keras\n",
    "from keras.models import Sequential\n",
    "from keras.layers import Dense"
   ]
  },
  {
   "cell_type": "code",
   "execution_count": 19,
   "id": "b044bc09",
   "metadata": {},
   "outputs": [],
   "source": [
    "classifier=Sequential([\n",
    "    keras.layers.Dense(1,input_shape=(5000,),activation='sigmoid'),\n",
    "    #keras.layers.Dense(1,activation='sigmoid')\n",
    "])"
   ]
  },
  {
   "cell_type": "code",
   "execution_count": 20,
   "id": "67162911",
   "metadata": {},
   "outputs": [],
   "source": [
    "classifier.compile(\n",
    "    optimizer='adam',\n",
    "    loss='binary_crossentropy',\n",
    "    metrics=['accuracy']\n",
    ")"
   ]
  },
  {
   "cell_type": "code",
   "execution_count": 21,
   "id": "ba561113",
   "metadata": {},
   "outputs": [
    {
     "name": "stdout",
     "output_type": "stream",
     "text": [
      "Epoch 1/100\n",
      "140/140 [==============================] - 1s 2ms/step - loss: 1.8097 - accuracy: 0.6688\n",
      "Epoch 2/100\n",
      "140/140 [==============================] - 0s 2ms/step - loss: 1.0271 - accuracy: 0.8280\n",
      "Epoch 3/100\n",
      "140/140 [==============================] - 0s 2ms/step - loss: 0.6419 - accuracy: 0.8888\n",
      "Epoch 4/100\n",
      "140/140 [==============================] - 0s 2ms/step - loss: 0.3915 - accuracy: 0.9341\n",
      "Epoch 5/100\n",
      "140/140 [==============================] - 0s 2ms/step - loss: 0.2280 - accuracy: 0.9590\n",
      "Epoch 6/100\n",
      "140/140 [==============================] - 0s 2ms/step - loss: 0.1312 - accuracy: 0.9771\n",
      "Epoch 7/100\n",
      "140/140 [==============================] - 0s 2ms/step - loss: 0.0785 - accuracy: 0.9847\n",
      "Epoch 8/100\n",
      "140/140 [==============================] - 0s 2ms/step - loss: 0.0479 - accuracy: 0.9908\n",
      "Epoch 9/100\n",
      "140/140 [==============================] - 0s 2ms/step - loss: 0.0329 - accuracy: 0.9935\n",
      "Epoch 10/100\n",
      "140/140 [==============================] - 0s 2ms/step - loss: 0.0256 - accuracy: 0.9946\n",
      "Epoch 11/100\n",
      "140/140 [==============================] - 0s 2ms/step - loss: 0.0210 - accuracy: 0.9953\n",
      "Epoch 12/100\n",
      "140/140 [==============================] - 0s 2ms/step - loss: 0.0182 - accuracy: 0.9960\n",
      "Epoch 13/100\n",
      "140/140 [==============================] - 0s 2ms/step - loss: 0.0162 - accuracy: 0.9960\n",
      "Epoch 14/100\n",
      "140/140 [==============================] - 0s 2ms/step - loss: 0.0144 - accuracy: 0.9962\n",
      "Epoch 15/100\n",
      "140/140 [==============================] - 0s 2ms/step - loss: 0.0129 - accuracy: 0.9966\n",
      "Epoch 16/100\n",
      "140/140 [==============================] - 0s 2ms/step - loss: 0.0116 - accuracy: 0.9971\n",
      "Epoch 17/100\n",
      "140/140 [==============================] - 0s 2ms/step - loss: 0.0105 - accuracy: 0.9973\n",
      "Epoch 18/100\n",
      "140/140 [==============================] - 0s 2ms/step - loss: 0.0095 - accuracy: 0.9978\n",
      "Epoch 19/100\n",
      "140/140 [==============================] - 0s 2ms/step - loss: 0.0086 - accuracy: 0.9980\n",
      "Epoch 20/100\n",
      "140/140 [==============================] - 0s 2ms/step - loss: 0.0078 - accuracy: 0.9982\n",
      "Epoch 21/100\n",
      "140/140 [==============================] - 0s 2ms/step - loss: 0.0070 - accuracy: 0.9982\n",
      "Epoch 22/100\n",
      "140/140 [==============================] - 0s 2ms/step - loss: 0.0064 - accuracy: 0.9984\n",
      "Epoch 23/100\n",
      "140/140 [==============================] - 0s 2ms/step - loss: 0.0059 - accuracy: 0.9989\n",
      "Epoch 24/100\n",
      "140/140 [==============================] - 0s 2ms/step - loss: 0.0054 - accuracy: 0.9989\n",
      "Epoch 25/100\n",
      "140/140 [==============================] - 0s 2ms/step - loss: 0.0049 - accuracy: 0.9989\n",
      "Epoch 26/100\n",
      "140/140 [==============================] - 0s 2ms/step - loss: 0.0045 - accuracy: 0.9989\n",
      "Epoch 27/100\n",
      "140/140 [==============================] - 0s 2ms/step - loss: 0.0042 - accuracy: 0.9993\n",
      "Epoch 28/100\n",
      "140/140 [==============================] - 0s 2ms/step - loss: 0.0039 - accuracy: 0.9993\n",
      "Epoch 29/100\n",
      "140/140 [==============================] - 0s 2ms/step - loss: 0.0036 - accuracy: 0.9993\n",
      "Epoch 30/100\n",
      "140/140 [==============================] - 0s 2ms/step - loss: 0.0034 - accuracy: 0.9996\n",
      "Epoch 31/100\n",
      "140/140 [==============================] - 0s 2ms/step - loss: 0.0031 - accuracy: 0.9996\n",
      "Epoch 32/100\n",
      "140/140 [==============================] - 0s 2ms/step - loss: 0.0029 - accuracy: 0.9996\n",
      "Epoch 33/100\n",
      "140/140 [==============================] - 0s 2ms/step - loss: 0.0027 - accuracy: 0.9998\n",
      "Epoch 34/100\n",
      "140/140 [==============================] - 0s 2ms/step - loss: 0.0026 - accuracy: 0.9998\n",
      "Epoch 35/100\n",
      "140/140 [==============================] - 0s 2ms/step - loss: 0.0024 - accuracy: 0.9998\n",
      "Epoch 36/100\n",
      "140/140 [==============================] - 0s 2ms/step - loss: 0.0023 - accuracy: 0.9998\n",
      "Epoch 37/100\n",
      "140/140 [==============================] - 0s 2ms/step - loss: 0.0021 - accuracy: 0.9998\n",
      "Epoch 38/100\n",
      "140/140 [==============================] - 0s 2ms/step - loss: 0.0020 - accuracy: 0.9998\n",
      "Epoch 39/100\n",
      "140/140 [==============================] - 0s 2ms/step - loss: 0.0019 - accuracy: 0.9998\n",
      "Epoch 40/100\n",
      "140/140 [==============================] - 0s 2ms/step - loss: 0.0018 - accuracy: 0.9998\n",
      "Epoch 41/100\n",
      "140/140 [==============================] - 0s 2ms/step - loss: 0.0017 - accuracy: 1.0000\n",
      "Epoch 42/100\n",
      "140/140 [==============================] - 0s 2ms/step - loss: 0.0016 - accuracy: 1.0000\n",
      "Epoch 43/100\n",
      "140/140 [==============================] - 0s 2ms/step - loss: 0.0015 - accuracy: 1.0000\n",
      "Epoch 44/100\n",
      "140/140 [==============================] - 0s 2ms/step - loss: 0.0014 - accuracy: 1.0000\n",
      "Epoch 45/100\n",
      "140/140 [==============================] - 0s 2ms/step - loss: 0.0013 - accuracy: 1.0000\n",
      "Epoch 46/100\n",
      "140/140 [==============================] - 0s 2ms/step - loss: 0.0013 - accuracy: 1.0000\n",
      "Epoch 47/100\n",
      "140/140 [==============================] - 0s 3ms/step - loss: 0.0012 - accuracy: 1.0000\n",
      "Epoch 48/100\n",
      "140/140 [==============================] - 0s 2ms/step - loss: 0.0012 - accuracy: 1.0000\n",
      "Epoch 49/100\n",
      "140/140 [==============================] - 0s 2ms/step - loss: 0.0011 - accuracy: 1.0000\n",
      "Epoch 50/100\n",
      "140/140 [==============================] - 0s 2ms/step - loss: 0.0010 - accuracy: 1.0000\n",
      "Epoch 51/100\n",
      "140/140 [==============================] - 0s 2ms/step - loss: 9.9494e-04 - accuracy: 1.0000\n",
      "Epoch 52/100\n",
      "140/140 [==============================] - 0s 2ms/step - loss: 9.4134e-04 - accuracy: 1.0000\n",
      "Epoch 53/100\n",
      "140/140 [==============================] - 0s 2ms/step - loss: 9.0154e-04 - accuracy: 1.0000\n",
      "Epoch 54/100\n",
      "140/140 [==============================] - 0s 2ms/step - loss: 8.5591e-04 - accuracy: 1.0000\n",
      "Epoch 55/100\n",
      "140/140 [==============================] - 0s 2ms/step - loss: 8.2155e-04 - accuracy: 1.0000\n",
      "Epoch 56/100\n",
      "140/140 [==============================] - 0s 2ms/step - loss: 7.7947e-04 - accuracy: 1.0000\n",
      "Epoch 57/100\n",
      "140/140 [==============================] - 0s 2ms/step - loss: 7.5571e-04 - accuracy: 1.0000\n",
      "Epoch 58/100\n",
      "140/140 [==============================] - 0s 2ms/step - loss: 7.1176e-04 - accuracy: 1.0000\n",
      "Epoch 59/100\n",
      "140/140 [==============================] - 0s 2ms/step - loss: 6.8298e-04 - accuracy: 1.0000\n",
      "Epoch 60/100\n",
      "140/140 [==============================] - 0s 2ms/step - loss: 6.4899e-04 - accuracy: 1.0000\n",
      "Epoch 61/100\n",
      "140/140 [==============================] - 0s 2ms/step - loss: 6.1906e-04 - accuracy: 1.0000\n",
      "Epoch 62/100\n",
      "140/140 [==============================] - 0s 2ms/step - loss: 5.9125e-04 - accuracy: 1.0000\n",
      "Epoch 63/100\n",
      "140/140 [==============================] - 0s 2ms/step - loss: 5.7108e-04 - accuracy: 1.0000\n",
      "Epoch 64/100\n",
      "140/140 [==============================] - 0s 2ms/step - loss: 5.4735e-04 - accuracy: 1.0000\n",
      "Epoch 65/100\n",
      "140/140 [==============================] - 0s 2ms/step - loss: 5.1895e-04 - accuracy: 1.0000\n",
      "Epoch 66/100\n",
      "140/140 [==============================] - 0s 2ms/step - loss: 4.9345e-04 - accuracy: 1.0000\n",
      "Epoch 67/100\n",
      "140/140 [==============================] - 0s 2ms/step - loss: 4.7191e-04 - accuracy: 1.0000\n",
      "Epoch 68/100\n",
      "140/140 [==============================] - 0s 2ms/step - loss: 4.5726e-04 - accuracy: 1.0000\n",
      "Epoch 69/100\n",
      "140/140 [==============================] - 0s 2ms/step - loss: 4.3586e-04 - accuracy: 1.0000\n",
      "Epoch 70/100\n",
      "140/140 [==============================] - 0s 2ms/step - loss: 4.1566e-04 - accuracy: 1.0000\n",
      "Epoch 71/100\n",
      "140/140 [==============================] - 0s 2ms/step - loss: 3.9607e-04 - accuracy: 1.0000\n",
      "Epoch 72/100\n",
      "140/140 [==============================] - 0s 2ms/step - loss: 3.8356e-04 - accuracy: 1.0000\n",
      "Epoch 73/100\n",
      "140/140 [==============================] - 0s 2ms/step - loss: 3.6923e-04 - accuracy: 1.0000\n",
      "Epoch 74/100\n",
      "140/140 [==============================] - 0s 2ms/step - loss: 3.5020e-04 - accuracy: 1.0000\n",
      "Epoch 75/100\n",
      "140/140 [==============================] - 0s 2ms/step - loss: 3.3914e-04 - accuracy: 1.0000\n",
      "Epoch 76/100\n",
      "140/140 [==============================] - 0s 2ms/step - loss: 3.2344e-04 - accuracy: 1.0000\n",
      "Epoch 77/100\n",
      "140/140 [==============================] - 0s 2ms/step - loss: 3.0978e-04 - accuracy: 1.0000\n",
      "Epoch 78/100\n",
      "140/140 [==============================] - 0s 2ms/step - loss: 2.9342e-04 - accuracy: 1.0000\n",
      "Epoch 79/100\n",
      "140/140 [==============================] - 0s 2ms/step - loss: 2.8390e-04 - accuracy: 1.0000\n",
      "Epoch 80/100\n",
      "140/140 [==============================] - 0s 2ms/step - loss: 2.7369e-04 - accuracy: 1.0000\n",
      "Epoch 81/100\n",
      "140/140 [==============================] - 0s 2ms/step - loss: 2.6534e-04 - accuracy: 1.0000\n",
      "Epoch 82/100\n",
      "140/140 [==============================] - 0s 2ms/step - loss: 2.5320e-04 - accuracy: 1.0000\n",
      "Epoch 83/100\n",
      "140/140 [==============================] - 0s 2ms/step - loss: 2.4378e-04 - accuracy: 1.0000\n",
      "Epoch 84/100\n",
      "140/140 [==============================] - 0s 2ms/step - loss: 2.3183e-04 - accuracy: 1.0000\n",
      "Epoch 85/100\n",
      "140/140 [==============================] - 0s 2ms/step - loss: 2.2250e-04 - accuracy: 1.0000\n",
      "Epoch 86/100\n",
      "140/140 [==============================] - 0s 2ms/step - loss: 2.1465e-04 - accuracy: 1.0000\n",
      "Epoch 87/100\n",
      "140/140 [==============================] - 0s 2ms/step - loss: 2.0436e-04 - accuracy: 1.0000\n",
      "Epoch 88/100\n",
      "140/140 [==============================] - 0s 2ms/step - loss: 1.9617e-04 - accuracy: 1.0000\n",
      "Epoch 89/100\n",
      "140/140 [==============================] - 0s 2ms/step - loss: 1.9132e-04 - accuracy: 1.0000\n",
      "Epoch 90/100\n",
      "140/140 [==============================] - 0s 2ms/step - loss: 1.8233e-04 - accuracy: 1.0000\n",
      "Epoch 91/100\n",
      "140/140 [==============================] - 0s 2ms/step - loss: 1.7944e-04 - accuracy: 1.0000\n",
      "Epoch 92/100\n",
      "140/140 [==============================] - 0s 3ms/step - loss: 1.7163e-04 - accuracy: 1.0000\n",
      "Epoch 93/100\n",
      "140/140 [==============================] - 0s 2ms/step - loss: 1.6587e-04 - accuracy: 1.0000\n",
      "Epoch 94/100\n",
      "140/140 [==============================] - 0s 2ms/step - loss: 1.5231e-04 - accuracy: 1.0000\n",
      "Epoch 95/100\n",
      "140/140 [==============================] - 0s 2ms/step - loss: 1.5073e-04 - accuracy: 1.0000\n",
      "Epoch 96/100\n",
      "140/140 [==============================] - 0s 2ms/step - loss: 1.4582e-04 - accuracy: 1.0000\n",
      "Epoch 97/100\n",
      "140/140 [==============================] - 0s 2ms/step - loss: 1.4461e-04 - accuracy: 1.0000\n",
      "Epoch 98/100\n",
      "140/140 [==============================] - 0s 2ms/step - loss: 1.3213e-04 - accuracy: 1.0000\n",
      "Epoch 99/100\n",
      "140/140 [==============================] - 0s 2ms/step - loss: 1.3254e-04 - accuracy: 1.0000\n",
      "Epoch 100/100\n",
      "140/140 [==============================] - 0s 2ms/step - loss: 1.2286e-04 - accuracy: 1.0000\n"
     ]
    },
    {
     "data": {
      "text/plain": [
       "<keras.callbacks.History at 0x1c01c544640>"
      ]
     },
     "execution_count": 21,
     "metadata": {},
     "output_type": "execute_result"
    }
   ],
   "source": [
    "classifier.fit(X_train,y_train,epochs=100)"
   ]
  },
  {
   "cell_type": "code",
   "execution_count": 31,
   "id": "124892fb",
   "metadata": {},
   "outputs": [
    {
     "name": "stdout",
     "output_type": "stream",
     "text": [
      "35/35 [==============================] - 0s 3ms/step - loss: 0.2785 - accuracy: 0.9713\n"
     ]
    },
    {
     "data": {
      "text/plain": [
       "[0.2785111367702484, 0.9713004231452942]"
      ]
     },
     "execution_count": 31,
     "metadata": {},
     "output_type": "execute_result"
    }
   ],
   "source": [
    "classifier.evaluate(x_test,y_test)"
   ]
  },
  {
   "cell_type": "code",
   "execution_count": 32,
   "id": "254acef7",
   "metadata": {},
   "outputs": [
    {
     "name": "stdout",
     "output_type": "stream",
     "text": [
      "int64\n",
      "(1115, 1)\n",
      "1\n"
     ]
    }
   ],
   "source": [
    "y_predicted=classifier(x_test)\n",
    "y_predicted=y_predicted.numpy()\n",
    "y_predicted=np.array(y_predicted,dtype='i8')\n",
    "#y_predicted=y_predicted.reshape(1,len(y_predicted))\n",
    "print(y_predicted.dtype)\n",
    "print(y_predicted.shape)\n",
    "print(len(y_predicted[0]))\n",
    "#y_predicted=(y_predicted>0.5)\n",
    "#y_predicted[:10]"
   ]
  },
  {
   "cell_type": "code",
   "execution_count": 26,
   "id": "0e06a7b0",
   "metadata": {},
   "outputs": [
    {
     "data": {
      "text/plain": [
       "1"
      ]
     },
     "execution_count": 26,
     "metadata": {},
     "output_type": "execute_result"
    }
   ],
   "source": [
    "for i in range(0,len(y_predicted[0])):\n",
    "    if(i>0.5):\n",
    "        y_predicted[0][i]=1\n",
    "    else:\n",
    "        y_predicted[0][i]=0\n",
    "y_predicted[0][1]"
   ]
  },
  {
   "cell_type": "code",
   "execution_count": 26,
   "id": "76d1841d",
   "metadata": {},
   "outputs": [
    {
     "data": {
      "text/plain": [
       "tf.bool"
      ]
     },
     "execution_count": 26,
     "metadata": {},
     "output_type": "execute_result"
    }
   ],
   "source": [
    "y_predicted=y_predicted.ast"
   ]
  },
  {
   "cell_type": "code",
   "execution_count": 33,
   "id": "ad68c4cf",
   "metadata": {},
   "outputs": [
    {
     "data": {
      "text/plain": [
       "4681    0\n",
       "4620    0\n",
       "4424    0\n",
       "2148    0\n",
       "1003    0\n",
       "348     0\n",
       "4106    0\n",
       "1267    0\n",
       "3719    0\n",
       "3233    0\n",
       "Name: Category, dtype: int32"
      ]
     },
     "execution_count": 33,
     "metadata": {},
     "output_type": "execute_result"
    }
   ],
   "source": [
    "y_test[:10]"
   ]
  },
  {
   "cell_type": "code",
   "execution_count": 34,
   "id": "74881952",
   "metadata": {},
   "outputs": [
    {
     "data": {
      "text/plain": [
       "array([[950,   0],\n",
       "       [165,   0]], dtype=int64)"
      ]
     },
     "execution_count": 34,
     "metadata": {},
     "output_type": "execute_result"
    }
   ],
   "source": [
    "from sklearn.metrics import confusion_matrix\n",
    "cm=confusion_matrix(y_test,y_predicted)\n",
    "cm"
   ]
  },
  {
   "cell_type": "code",
   "execution_count": 35,
   "id": "11b44b63",
   "metadata": {},
   "outputs": [],
   "source": [
    "from sklearn.metrics import accuracy_score , f1_score , precision_score , recall_score"
   ]
  },
  {
   "cell_type": "code",
   "execution_count": 36,
   "id": "91f6621c",
   "metadata": {},
   "outputs": [
    {
     "name": "stdout",
     "output_type": "stream",
     "text": [
      "35/35 [==============================] - 0s 3ms/step\n"
     ]
    },
    {
     "data": {
      "text/plain": [
       "array([[0.24137506],\n",
       "       [0.3532878 ],\n",
       "       [0.229818  ],\n",
       "       ...,\n",
       "       [0.2344017 ],\n",
       "       [0.2476096 ],\n",
       "       [0.40794635]], dtype=float32)"
      ]
     },
     "execution_count": 36,
     "metadata": {},
     "output_type": "execute_result"
    }
   ],
   "source": [
    "y_test_pred=classifier.predict(x_test)\n",
    "y_test_pred"
   ]
  },
  {
   "cell_type": "code",
   "execution_count": 37,
   "id": "9927cb49",
   "metadata": {},
   "outputs": [
    {
     "name": "stdout",
     "output_type": "stream",
     "text": [
      "35/35 [==============================] - 0s 3ms/step\n",
      "accuracy score on test data  0.852017937219731\n",
      "precision score on test data  0.0\n",
      "recall score on test data  0.0\n",
      "f1 score on test data  0.0\n"
     ]
    },
    {
     "name": "stderr",
     "output_type": "stream",
     "text": [
      "c:\\Users\\amitb\\anaconda3\\lib\\site-packages\\sklearn\\metrics\\_classification.py:1318: UndefinedMetricWarning: Precision is ill-defined and being set to 0.0 due to no predicted samples. Use `zero_division` parameter to control this behavior.\n",
      "  _warn_prf(average, modifier, msg_start, len(result))\n"
     ]
    }
   ],
   "source": [
    "y_test_pred=classifier.predict(x_test)\n",
    "test_accu=accuracy_score(y_test,y_predicted)\n",
    "test_pre=precision_score(y_test,y_predicted)\n",
    "test_re=recall_score(y_test,y_predicted)\n",
    "test_f1=f1_score(y_test,y_predicted)\n",
    "print(\"accuracy score on test data \",test_accu)\n",
    "print(\"precision score on test data \",test_pre)\n",
    "print(\"recall score on test data \",test_re)\n",
    "print(\"f1 score on test data \",test_f1)"
   ]
  },
  {
   "cell_type": "code",
   "execution_count": null,
   "id": "34410f8d",
   "metadata": {},
   "outputs": [],
   "source": []
  }
 ],
 "metadata": {
  "kernelspec": {
   "display_name": "Python 3 (ipykernel)",
   "language": "python",
   "name": "python3"
  },
  "language_info": {
   "codemirror_mode": {
    "name": "ipython",
    "version": 3
   },
   "file_extension": ".py",
   "mimetype": "text/x-python",
   "name": "python",
   "nbconvert_exporter": "python",
   "pygments_lexer": "ipython3",
   "version": "3.9.12"
  },
  "vscode": {
   "interpreter": {
    "hash": "c7b8b6938c1dcf235ea466d951cbff1126c27251db1d54ad9ac8856071c47cec"
   }
  }
 },
 "nbformat": 4,
 "nbformat_minor": 5
}
