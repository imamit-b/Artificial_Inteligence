{
 "cells": [
  {
   "cell_type": "code",
   "execution_count": 1,
   "id": "85609a8a",
   "metadata": {},
   "outputs": [],
   "source": [
    "import numpy as np\n",
    "import matplotlib.pyplot as plt\n",
    "import pandas as pd"
   ]
  },
  {
   "cell_type": "code",
   "execution_count": 2,
   "id": "436dd180",
   "metadata": {},
   "outputs": [
    {
     "name": "stdout",
     "output_type": "stream",
     "text": [
      "(9504, 28)\n"
     ]
    }
   ],
   "source": [
    "df=pd.read_csv('PM2.5.csv')\n",
    "shape=df.shape\n",
    "print(shape)"
   ]
  },
  {
   "cell_type": "code",
   "execution_count": 3,
   "id": "e7fc0ad7",
   "metadata": {},
   "outputs": [
    {
     "data": {
      "text/html": [
       "<div>\n",
       "<style scoped>\n",
       "    .dataframe tbody tr th:only-of-type {\n",
       "        vertical-align: middle;\n",
       "    }\n",
       "\n",
       "    .dataframe tbody tr th {\n",
       "        vertical-align: top;\n",
       "    }\n",
       "\n",
       "    .dataframe thead th {\n",
       "        text-align: right;\n",
       "    }\n",
       "</style>\n",
       "<table border=\"1\" class=\"dataframe\">\n",
       "  <thead>\n",
       "    <tr style=\"text-align: right;\">\n",
       "      <th></th>\n",
       "      <th>IHBAS-CPCB</th>\n",
       "      <th>Dwarka-S8-DPCC</th>\n",
       "      <th>Sri-Aurobindo-Marg-DPCC</th>\n",
       "      <th>DTU-CPCB</th>\n",
       "      <th>Okhla-Phase-2-DPCC</th>\n",
       "      <th>Alipur-DPCC</th>\n",
       "      <th>Aya-Nagar-IMD</th>\n",
       "      <th>Sonia-Vihar-DPCC</th>\n",
       "      <th>JNS-DPCC</th>\n",
       "      <th>Mundka-DPCC</th>\n",
       "      <th>...</th>\n",
       "      <th>Punjabi-Bagh-DPCC</th>\n",
       "      <th>Jahangirpuri-DPCC</th>\n",
       "      <th>Bawana-DPCC</th>\n",
       "      <th>Narela-CPCB</th>\n",
       "      <th>Patparganj-DPCC</th>\n",
       "      <th>Rohini-DPCC</th>\n",
       "      <th>Anand-Vihar-DPCC</th>\n",
       "      <th>NSIT-Dwarka-CPCB</th>\n",
       "      <th>MDCNS-DPCC</th>\n",
       "      <th>Najafgarh-DPCC</th>\n",
       "    </tr>\n",
       "  </thead>\n",
       "  <tbody>\n",
       "    <tr>\n",
       "      <th>0</th>\n",
       "      <td>26.55</td>\n",
       "      <td>26.00</td>\n",
       "      <td>36.00</td>\n",
       "      <td>30.92</td>\n",
       "      <td>52.0</td>\n",
       "      <td>39.50</td>\n",
       "      <td>25.54</td>\n",
       "      <td>40.0</td>\n",
       "      <td>43.75</td>\n",
       "      <td>28.0</td>\n",
       "      <td>...</td>\n",
       "      <td>37.50</td>\n",
       "      <td>50.25</td>\n",
       "      <td>27.000000</td>\n",
       "      <td>29.50</td>\n",
       "      <td>30.75</td>\n",
       "      <td>35.0</td>\n",
       "      <td>43.75</td>\n",
       "      <td>26.73</td>\n",
       "      <td>30.250000</td>\n",
       "      <td>29.0</td>\n",
       "    </tr>\n",
       "    <tr>\n",
       "      <th>1</th>\n",
       "      <td>22.12</td>\n",
       "      <td>29.25</td>\n",
       "      <td>42.00</td>\n",
       "      <td>29.30</td>\n",
       "      <td>42.0</td>\n",
       "      <td>38.00</td>\n",
       "      <td>61.98</td>\n",
       "      <td>38.0</td>\n",
       "      <td>32.25</td>\n",
       "      <td>27.0</td>\n",
       "      <td>...</td>\n",
       "      <td>39.00</td>\n",
       "      <td>45.50</td>\n",
       "      <td>26.250000</td>\n",
       "      <td>28.75</td>\n",
       "      <td>37.50</td>\n",
       "      <td>29.0</td>\n",
       "      <td>32.50</td>\n",
       "      <td>19.75</td>\n",
       "      <td>31.333333</td>\n",
       "      <td>31.5</td>\n",
       "    </tr>\n",
       "    <tr>\n",
       "      <th>2</th>\n",
       "      <td>42.55</td>\n",
       "      <td>30.75</td>\n",
       "      <td>42.00</td>\n",
       "      <td>28.21</td>\n",
       "      <td>37.0</td>\n",
       "      <td>24.75</td>\n",
       "      <td>49.71</td>\n",
       "      <td>47.0</td>\n",
       "      <td>26.50</td>\n",
       "      <td>24.5</td>\n",
       "      <td>...</td>\n",
       "      <td>41.00</td>\n",
       "      <td>32.50</td>\n",
       "      <td>24.000000</td>\n",
       "      <td>18.00</td>\n",
       "      <td>38.75</td>\n",
       "      <td>31.0</td>\n",
       "      <td>24.25</td>\n",
       "      <td>15.47</td>\n",
       "      <td>25.777778</td>\n",
       "      <td>29.0</td>\n",
       "    </tr>\n",
       "    <tr>\n",
       "      <th>3</th>\n",
       "      <td>30.73</td>\n",
       "      <td>34.25</td>\n",
       "      <td>41.75</td>\n",
       "      <td>61.21</td>\n",
       "      <td>33.0</td>\n",
       "      <td>12.00</td>\n",
       "      <td>13.26</td>\n",
       "      <td>14.0</td>\n",
       "      <td>23.25</td>\n",
       "      <td>26.5</td>\n",
       "      <td>...</td>\n",
       "      <td>22.50</td>\n",
       "      <td>14.25</td>\n",
       "      <td>24.000000</td>\n",
       "      <td>8.00</td>\n",
       "      <td>28.00</td>\n",
       "      <td>56.0</td>\n",
       "      <td>22.75</td>\n",
       "      <td>13.84</td>\n",
       "      <td>25.888889</td>\n",
       "      <td>35.0</td>\n",
       "    </tr>\n",
       "    <tr>\n",
       "      <th>4</th>\n",
       "      <td>20.18</td>\n",
       "      <td>36.75</td>\n",
       "      <td>39.25</td>\n",
       "      <td>22.79</td>\n",
       "      <td>23.5</td>\n",
       "      <td>13.00</td>\n",
       "      <td>15.85</td>\n",
       "      <td>28.0</td>\n",
       "      <td>19.00</td>\n",
       "      <td>38.0</td>\n",
       "      <td>...</td>\n",
       "      <td>32.25</td>\n",
       "      <td>10.75</td>\n",
       "      <td>31.779412</td>\n",
       "      <td>15.00</td>\n",
       "      <td>22.00</td>\n",
       "      <td>24.0</td>\n",
       "      <td>20.75</td>\n",
       "      <td>15.13</td>\n",
       "      <td>21.944444</td>\n",
       "      <td>40.0</td>\n",
       "    </tr>\n",
       "  </tbody>\n",
       "</table>\n",
       "<p>5 rows × 28 columns</p>\n",
       "</div>"
      ],
      "text/plain": [
       "   IHBAS-CPCB  Dwarka-S8-DPCC  Sri-Aurobindo-Marg-DPCC  DTU-CPCB  \\\n",
       "0       26.55           26.00                    36.00     30.92   \n",
       "1       22.12           29.25                    42.00     29.30   \n",
       "2       42.55           30.75                    42.00     28.21   \n",
       "3       30.73           34.25                    41.75     61.21   \n",
       "4       20.18           36.75                    39.25     22.79   \n",
       "\n",
       "   Okhla-Phase-2-DPCC  Alipur-DPCC  Aya-Nagar-IMD  Sonia-Vihar-DPCC  JNS-DPCC  \\\n",
       "0                52.0        39.50          25.54              40.0     43.75   \n",
       "1                42.0        38.00          61.98              38.0     32.25   \n",
       "2                37.0        24.75          49.71              47.0     26.50   \n",
       "3                33.0        12.00          13.26              14.0     23.25   \n",
       "4                23.5        13.00          15.85              28.0     19.00   \n",
       "\n",
       "   Mundka-DPCC  ...  Punjabi-Bagh-DPCC  Jahangirpuri-DPCC  Bawana-DPCC  \\\n",
       "0         28.0  ...              37.50              50.25    27.000000   \n",
       "1         27.0  ...              39.00              45.50    26.250000   \n",
       "2         24.5  ...              41.00              32.50    24.000000   \n",
       "3         26.5  ...              22.50              14.25    24.000000   \n",
       "4         38.0  ...              32.25              10.75    31.779412   \n",
       "\n",
       "   Narela-CPCB  Patparganj-DPCC  Rohini-DPCC  Anand-Vihar-DPCC  \\\n",
       "0        29.50            30.75         35.0             43.75   \n",
       "1        28.75            37.50         29.0             32.50   \n",
       "2        18.00            38.75         31.0             24.25   \n",
       "3         8.00            28.00         56.0             22.75   \n",
       "4        15.00            22.00         24.0             20.75   \n",
       "\n",
       "   NSIT-Dwarka-CPCB  MDCNS-DPCC  Najafgarh-DPCC  \n",
       "0             26.73   30.250000            29.0  \n",
       "1             19.75   31.333333            31.5  \n",
       "2             15.47   25.777778            29.0  \n",
       "3             13.84   25.888889            35.0  \n",
       "4             15.13   21.944444            40.0  \n",
       "\n",
       "[5 rows x 28 columns]"
      ]
     },
     "execution_count": 3,
     "metadata": {},
     "output_type": "execute_result"
    }
   ],
   "source": [
    "df.head()"
   ]
  },
  {
   "cell_type": "code",
   "execution_count": 4,
   "id": "623ccc7e",
   "metadata": {},
   "outputs": [],
   "source": [
    "dataset=df.dropna()"
   ]
  },
  {
   "cell_type": "code",
   "execution_count": 5,
   "id": "cfd0593b",
   "metadata": {},
   "outputs": [
    {
     "data": {
      "text/plain": [
       "IHBAS-CPCB                 0\n",
       "Dwarka-S8-DPCC             0\n",
       "Sri-Aurobindo-Marg-DPCC    0\n",
       "DTU-CPCB                   0\n",
       "Okhla-Phase-2-DPCC         0\n",
       "Alipur-DPCC                0\n",
       "Aya-Nagar-IMD              0\n",
       "Sonia-Vihar-DPCC           0\n",
       "JNS-DPCC                   0\n",
       "Mundka-DPCC                0\n",
       "Pusa-DPCC                  0\n",
       "Shadipur-CPCB              0\n",
       "Vivek-Vihar-DPCC           0\n",
       "Mandir-Marg-DPCC           0\n",
       "Nehru-Nagar-DPCC           0\n",
       "Wazirpur-DPCC              0\n",
       "CRRI-Mathura-Road          0\n",
       "RK-Puram-DPCC              0\n",
       "Punjabi-Bagh-DPCC          0\n",
       "Jahangirpuri-DPCC          0\n",
       "Bawana-DPCC                0\n",
       "Narela-CPCB                0\n",
       "Patparganj-DPCC            0\n",
       "Rohini-DPCC                0\n",
       "Anand-Vihar-DPCC           0\n",
       "NSIT-Dwarka-CPCB           0\n",
       "MDCNS-DPCC                 0\n",
       "Najafgarh-DPCC             0\n",
       "dtype: int64"
      ]
     },
     "execution_count": 5,
     "metadata": {},
     "output_type": "execute_result"
    }
   ],
   "source": [
    "dataset.isnull().sum()"
   ]
  },
  {
   "cell_type": "code",
   "execution_count": 6,
   "id": "bbb2cb5a",
   "metadata": {},
   "outputs": [
    {
     "data": {
      "text/plain": [
       "0    26.55\n",
       "1    22.12\n",
       "2    42.55\n",
       "3    30.73\n",
       "4    20.18\n",
       "Name: IHBAS-CPCB, dtype: float64"
      ]
     },
     "execution_count": 6,
     "metadata": {},
     "output_type": "execute_result"
    }
   ],
   "source": [
    "y=dataset['IHBAS-CPCB']\n",
    "y.head()"
   ]
  },
  {
   "cell_type": "code",
   "execution_count": 7,
   "id": "581854a6",
   "metadata": {},
   "outputs": [
    {
     "data": {
      "text/html": [
       "<div>\n",
       "<style scoped>\n",
       "    .dataframe tbody tr th:only-of-type {\n",
       "        vertical-align: middle;\n",
       "    }\n",
       "\n",
       "    .dataframe tbody tr th {\n",
       "        vertical-align: top;\n",
       "    }\n",
       "\n",
       "    .dataframe thead th {\n",
       "        text-align: right;\n",
       "    }\n",
       "</style>\n",
       "<table border=\"1\" class=\"dataframe\">\n",
       "  <thead>\n",
       "    <tr style=\"text-align: right;\">\n",
       "      <th></th>\n",
       "      <th>Dwarka-S8-DPCC</th>\n",
       "      <th>Sri-Aurobindo-Marg-DPCC</th>\n",
       "      <th>DTU-CPCB</th>\n",
       "      <th>Okhla-Phase-2-DPCC</th>\n",
       "      <th>Alipur-DPCC</th>\n",
       "      <th>Aya-Nagar-IMD</th>\n",
       "      <th>Sonia-Vihar-DPCC</th>\n",
       "      <th>JNS-DPCC</th>\n",
       "      <th>Mundka-DPCC</th>\n",
       "      <th>Pusa-DPCC</th>\n",
       "      <th>...</th>\n",
       "      <th>Punjabi-Bagh-DPCC</th>\n",
       "      <th>Jahangirpuri-DPCC</th>\n",
       "      <th>Bawana-DPCC</th>\n",
       "      <th>Narela-CPCB</th>\n",
       "      <th>Patparganj-DPCC</th>\n",
       "      <th>Rohini-DPCC</th>\n",
       "      <th>Anand-Vihar-DPCC</th>\n",
       "      <th>NSIT-Dwarka-CPCB</th>\n",
       "      <th>MDCNS-DPCC</th>\n",
       "      <th>Najafgarh-DPCC</th>\n",
       "    </tr>\n",
       "  </thead>\n",
       "  <tbody>\n",
       "    <tr>\n",
       "      <th>0</th>\n",
       "      <td>26.00</td>\n",
       "      <td>36.00</td>\n",
       "      <td>30.92</td>\n",
       "      <td>52.0</td>\n",
       "      <td>39.50</td>\n",
       "      <td>25.54</td>\n",
       "      <td>40.0</td>\n",
       "      <td>43.75</td>\n",
       "      <td>28.0</td>\n",
       "      <td>34.25</td>\n",
       "      <td>...</td>\n",
       "      <td>37.50</td>\n",
       "      <td>50.25</td>\n",
       "      <td>27.000000</td>\n",
       "      <td>29.50</td>\n",
       "      <td>30.75</td>\n",
       "      <td>35.0</td>\n",
       "      <td>43.75</td>\n",
       "      <td>26.73</td>\n",
       "      <td>30.250000</td>\n",
       "      <td>29.0</td>\n",
       "    </tr>\n",
       "    <tr>\n",
       "      <th>1</th>\n",
       "      <td>29.25</td>\n",
       "      <td>42.00</td>\n",
       "      <td>29.30</td>\n",
       "      <td>42.0</td>\n",
       "      <td>38.00</td>\n",
       "      <td>61.98</td>\n",
       "      <td>38.0</td>\n",
       "      <td>32.25</td>\n",
       "      <td>27.0</td>\n",
       "      <td>35.00</td>\n",
       "      <td>...</td>\n",
       "      <td>39.00</td>\n",
       "      <td>45.50</td>\n",
       "      <td>26.250000</td>\n",
       "      <td>28.75</td>\n",
       "      <td>37.50</td>\n",
       "      <td>29.0</td>\n",
       "      <td>32.50</td>\n",
       "      <td>19.75</td>\n",
       "      <td>31.333333</td>\n",
       "      <td>31.5</td>\n",
       "    </tr>\n",
       "    <tr>\n",
       "      <th>2</th>\n",
       "      <td>30.75</td>\n",
       "      <td>42.00</td>\n",
       "      <td>28.21</td>\n",
       "      <td>37.0</td>\n",
       "      <td>24.75</td>\n",
       "      <td>49.71</td>\n",
       "      <td>47.0</td>\n",
       "      <td>26.50</td>\n",
       "      <td>24.5</td>\n",
       "      <td>30.50</td>\n",
       "      <td>...</td>\n",
       "      <td>41.00</td>\n",
       "      <td>32.50</td>\n",
       "      <td>24.000000</td>\n",
       "      <td>18.00</td>\n",
       "      <td>38.75</td>\n",
       "      <td>31.0</td>\n",
       "      <td>24.25</td>\n",
       "      <td>15.47</td>\n",
       "      <td>25.777778</td>\n",
       "      <td>29.0</td>\n",
       "    </tr>\n",
       "    <tr>\n",
       "      <th>3</th>\n",
       "      <td>34.25</td>\n",
       "      <td>41.75</td>\n",
       "      <td>61.21</td>\n",
       "      <td>33.0</td>\n",
       "      <td>12.00</td>\n",
       "      <td>13.26</td>\n",
       "      <td>14.0</td>\n",
       "      <td>23.25</td>\n",
       "      <td>26.5</td>\n",
       "      <td>18.50</td>\n",
       "      <td>...</td>\n",
       "      <td>22.50</td>\n",
       "      <td>14.25</td>\n",
       "      <td>24.000000</td>\n",
       "      <td>8.00</td>\n",
       "      <td>28.00</td>\n",
       "      <td>56.0</td>\n",
       "      <td>22.75</td>\n",
       "      <td>13.84</td>\n",
       "      <td>25.888889</td>\n",
       "      <td>35.0</td>\n",
       "    </tr>\n",
       "    <tr>\n",
       "      <th>4</th>\n",
       "      <td>36.75</td>\n",
       "      <td>39.25</td>\n",
       "      <td>22.79</td>\n",
       "      <td>23.5</td>\n",
       "      <td>13.00</td>\n",
       "      <td>15.85</td>\n",
       "      <td>28.0</td>\n",
       "      <td>19.00</td>\n",
       "      <td>38.0</td>\n",
       "      <td>21.25</td>\n",
       "      <td>...</td>\n",
       "      <td>32.25</td>\n",
       "      <td>10.75</td>\n",
       "      <td>31.779412</td>\n",
       "      <td>15.00</td>\n",
       "      <td>22.00</td>\n",
       "      <td>24.0</td>\n",
       "      <td>20.75</td>\n",
       "      <td>15.13</td>\n",
       "      <td>21.944444</td>\n",
       "      <td>40.0</td>\n",
       "    </tr>\n",
       "  </tbody>\n",
       "</table>\n",
       "<p>5 rows × 27 columns</p>\n",
       "</div>"
      ],
      "text/plain": [
       "   Dwarka-S8-DPCC  Sri-Aurobindo-Marg-DPCC  DTU-CPCB  Okhla-Phase-2-DPCC  \\\n",
       "0           26.00                    36.00     30.92                52.0   \n",
       "1           29.25                    42.00     29.30                42.0   \n",
       "2           30.75                    42.00     28.21                37.0   \n",
       "3           34.25                    41.75     61.21                33.0   \n",
       "4           36.75                    39.25     22.79                23.5   \n",
       "\n",
       "   Alipur-DPCC  Aya-Nagar-IMD  Sonia-Vihar-DPCC  JNS-DPCC  Mundka-DPCC  \\\n",
       "0        39.50          25.54              40.0     43.75         28.0   \n",
       "1        38.00          61.98              38.0     32.25         27.0   \n",
       "2        24.75          49.71              47.0     26.50         24.5   \n",
       "3        12.00          13.26              14.0     23.25         26.5   \n",
       "4        13.00          15.85              28.0     19.00         38.0   \n",
       "\n",
       "   Pusa-DPCC  ...  Punjabi-Bagh-DPCC  Jahangirpuri-DPCC  Bawana-DPCC  \\\n",
       "0      34.25  ...              37.50              50.25    27.000000   \n",
       "1      35.00  ...              39.00              45.50    26.250000   \n",
       "2      30.50  ...              41.00              32.50    24.000000   \n",
       "3      18.50  ...              22.50              14.25    24.000000   \n",
       "4      21.25  ...              32.25              10.75    31.779412   \n",
       "\n",
       "   Narela-CPCB  Patparganj-DPCC  Rohini-DPCC  Anand-Vihar-DPCC  \\\n",
       "0        29.50            30.75         35.0             43.75   \n",
       "1        28.75            37.50         29.0             32.50   \n",
       "2        18.00            38.75         31.0             24.25   \n",
       "3         8.00            28.00         56.0             22.75   \n",
       "4        15.00            22.00         24.0             20.75   \n",
       "\n",
       "   NSIT-Dwarka-CPCB  MDCNS-DPCC  Najafgarh-DPCC  \n",
       "0             26.73   30.250000            29.0  \n",
       "1             19.75   31.333333            31.5  \n",
       "2             15.47   25.777778            29.0  \n",
       "3             13.84   25.888889            35.0  \n",
       "4             15.13   21.944444            40.0  \n",
       "\n",
       "[5 rows x 27 columns]"
      ]
     },
     "execution_count": 7,
     "metadata": {},
     "output_type": "execute_result"
    }
   ],
   "source": [
    "x=dataset.drop(\"IHBAS-CPCB\", axis='columns')\n",
    "x.head()"
   ]
  },
  {
   "cell_type": "code",
   "execution_count": 8,
   "id": "e5925196",
   "metadata": {},
   "outputs": [],
   "source": [
    "from sklearn.model_selection import train_test_split\n",
    "x_train, x_test, y_train, y_test = train_test_split(x,y,train_size=0.8,random_state=0)"
   ]
  },
  {
   "cell_type": "code",
   "execution_count": 9,
   "id": "e054486b",
   "metadata": {},
   "outputs": [
    {
     "data": {
      "text/plain": [
       "LinearRegression()"
      ]
     },
     "execution_count": 9,
     "metadata": {},
     "output_type": "execute_result"
    }
   ],
   "source": [
    "from sklearn import linear_model\n",
    "reg=linear_model.LinearRegression()\n",
    "reg.fit(x_train,y_train)"
   ]
  },
  {
   "cell_type": "code",
   "execution_count": 10,
   "id": "d036ffa1",
   "metadata": {},
   "outputs": [
    {
     "data": {
      "text/plain": [
       "array([ 24.37983359, 128.6610338 , 236.29818454, ..., 209.25243245,\n",
       "       102.10520562, 100.98450998])"
      ]
     },
     "execution_count": 10,
     "metadata": {},
     "output_type": "execute_result"
    }
   ],
   "source": [
    "y_pred=reg.predict(x_train)\n",
    "y_pred"
   ]
  },
  {
   "cell_type": "code",
   "execution_count": 11,
   "id": "383c42f2",
   "metadata": {},
   "outputs": [],
   "source": [
    "from sklearn.metrics import r2_score"
   ]
  },
  {
   "cell_type": "code",
   "execution_count": 12,
   "id": "82d0331e",
   "metadata": {},
   "outputs": [
    {
     "data": {
      "text/plain": [
       "0.8712826471776092"
      ]
     },
     "execution_count": 12,
     "metadata": {},
     "output_type": "execute_result"
    }
   ],
   "source": [
    "r2_score(y_train, y_pred)"
   ]
  },
  {
   "cell_type": "code",
   "execution_count": 13,
   "id": "29825ad9",
   "metadata": {},
   "outputs": [
    {
     "data": {
      "text/plain": [
       "array([ 49.07210762,  18.96632864,  36.27068905, ..., 260.81065828,\n",
       "        57.55128175,  18.05870175])"
      ]
     },
     "execution_count": 13,
     "metadata": {},
     "output_type": "execute_result"
    }
   ],
   "source": [
    "y_pred_test=reg.predict(x_test)\n",
    "y_pred_test"
   ]
  },
  {
   "cell_type": "code",
   "execution_count": 14,
   "id": "6fac5d27",
   "metadata": {},
   "outputs": [
    {
     "data": {
      "text/plain": [
       "0.8488605159612111"
      ]
     },
     "execution_count": 14,
     "metadata": {},
     "output_type": "execute_result"
    }
   ],
   "source": [
    "r2_score(y_test, y_pred_test)"
   ]
  },
  {
   "cell_type": "code",
   "execution_count": 15,
   "id": "ee40cd9d",
   "metadata": {},
   "outputs": [
    {
     "data": {
      "text/plain": [
       "SVR()"
      ]
     },
     "execution_count": 15,
     "metadata": {},
     "output_type": "execute_result"
    }
   ],
   "source": [
    "from sklearn import svm\n",
    "regr = svm.SVR(kernel='rbf')\n",
    "regr.fit(x_train,y_train)"
   ]
  },
  {
   "cell_type": "code",
   "execution_count": 16,
   "id": "be7c1dda",
   "metadata": {},
   "outputs": [
    {
     "data": {
      "text/plain": [
       "array([ 24.52829052, 121.21019173, 199.21735073, ..., 172.1914309 ,\n",
       "       102.18841301, 113.57643217])"
      ]
     },
     "execution_count": 16,
     "metadata": {},
     "output_type": "execute_result"
    }
   ],
   "source": [
    "y_predicted=regr.predict(x_train)\n",
    "y_predicted"
   ]
  },
  {
   "cell_type": "code",
   "execution_count": 17,
   "id": "b7562eb5",
   "metadata": {},
   "outputs": [
    {
     "data": {
      "text/plain": [
       "0.7180561616113852"
      ]
     },
     "execution_count": 17,
     "metadata": {},
     "output_type": "execute_result"
    }
   ],
   "source": [
    "r2_score(y_train, y_predicted)"
   ]
  },
  {
   "cell_type": "code",
   "execution_count": 18,
   "id": "1c724ccc",
   "metadata": {},
   "outputs": [
    {
     "data": {
      "text/plain": [
       "array([ 44.54544798,  18.33033169,  35.72395449, ..., 218.62805744,\n",
       "        71.05099482,  18.70824507])"
      ]
     },
     "execution_count": 18,
     "metadata": {},
     "output_type": "execute_result"
    }
   ],
   "source": [
    "y_predicted_test=regr.predict(x_test)\n",
    "y_predicted_test"
   ]
  },
  {
   "cell_type": "code",
   "execution_count": 19,
   "id": "49637545",
   "metadata": {},
   "outputs": [
    {
     "data": {
      "text/plain": [
       "0.6810791738643895"
      ]
     },
     "execution_count": 19,
     "metadata": {},
     "output_type": "execute_result"
    }
   ],
   "source": [
    "r2_score(y_test, y_predicted_test)"
   ]
  },
  {
   "cell_type": "code",
   "execution_count": 20,
   "id": "ef4bacc9",
   "metadata": {},
   "outputs": [],
   "source": [
    "from sklearn import tree\n",
    "clf = tree.DecisionTreeRegressor()\n",
    "clf = clf.fit(x_train,y_train)"
   ]
  },
  {
   "cell_type": "code",
   "execution_count": 21,
   "id": "4d3e6526",
   "metadata": {},
   "outputs": [
    {
     "data": {
      "text/plain": [
       "array([ 28.12, 145.25, 269.12, ..., 161.75,  80.7 , 124.4 ])"
      ]
     },
     "execution_count": 21,
     "metadata": {},
     "output_type": "execute_result"
    }
   ],
   "source": [
    "y_predicted_tree=clf.predict(x_train)\n",
    "y_predicted_tree"
   ]
  },
  {
   "cell_type": "code",
   "execution_count": 22,
   "id": "f69e433f",
   "metadata": {},
   "outputs": [
    {
     "data": {
      "text/plain": [
       "1.0"
      ]
     },
     "execution_count": 22,
     "metadata": {},
     "output_type": "execute_result"
    }
   ],
   "source": [
    "r2_score(y_train, y_predicted_tree)"
   ]
  },
  {
   "cell_type": "code",
   "execution_count": 23,
   "id": "25e8a1a3",
   "metadata": {},
   "outputs": [
    {
     "data": {
      "text/plain": [
       "array([ 61.42      ,  14.38      ,  50.62      , ..., 330.95      ,\n",
       "        42.48411765,   7.32      ])"
      ]
     },
     "execution_count": 23,
     "metadata": {},
     "output_type": "execute_result"
    }
   ],
   "source": [
    "y_predicted_test_tree=clf.predict(x_test)\n",
    "y_predicted_test_tree"
   ]
  },
  {
   "cell_type": "code",
   "execution_count": 24,
   "id": "cb090088",
   "metadata": {},
   "outputs": [
    {
     "data": {
      "text/plain": [
       "0.7564396720587567"
      ]
     },
     "execution_count": 24,
     "metadata": {},
     "output_type": "execute_result"
    }
   ],
   "source": [
    "r2_score(y_test, y_predicted_test_tree)"
   ]
  },
  {
   "cell_type": "code",
   "execution_count": null,
   "id": "d54d7719",
   "metadata": {},
   "outputs": [],
   "source": []
  }
 ],
 "metadata": {
  "kernelspec": {
   "display_name": "Python 3 (ipykernel)",
   "language": "python",
   "name": "python3"
  },
  "language_info": {
   "codemirror_mode": {
    "name": "ipython",
    "version": 3
   },
   "file_extension": ".py",
   "mimetype": "text/x-python",
   "name": "python",
   "nbconvert_exporter": "python",
   "pygments_lexer": "ipython3",
   "version": "3.9.12"
  }
 },
 "nbformat": 4,
 "nbformat_minor": 5
}
