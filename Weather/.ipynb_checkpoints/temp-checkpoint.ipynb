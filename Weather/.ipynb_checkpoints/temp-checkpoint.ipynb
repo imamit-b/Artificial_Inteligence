{
 "cells": [
  {
   "cell_type": "code",
   "execution_count": 1,
   "id": "85609a8a",
   "metadata": {},
   "outputs": [],
   "source": [
    "import numpy as np\n",
    "import matplotlib.pyplot as plt\n",
    "import pandas as pd"
   ]
  },
  {
   "cell_type": "code",
   "execution_count": 2,
   "id": "436dd180",
   "metadata": {},
   "outputs": [
    {
     "name": "stdout",
     "output_type": "stream",
     "text": [
      "(412, 5)\n"
     ]
    }
   ],
   "source": [
    "dataset=pd.read_csv('mumbai_bandra_Nan.csv')\n",
    "dataset.head()\n",
    "shape=dataset.shape\n",
    "print(shape)"
   ]
  },
  {
   "cell_type": "code",
   "execution_count": 3,
   "id": "cfd0593b",
   "metadata": {},
   "outputs": [
    {
     "data": {
      "text/plain": [
       "Temp    45\n",
       "RH      45\n",
       "WS      45\n",
       "WD      45\n",
       "SR      56\n",
       "dtype: int64"
      ]
     },
     "execution_count": 3,
     "metadata": {},
     "output_type": "execute_result"
    }
   ],
   "source": [
    "dataset.isnull().sum()"
   ]
  },
  {
   "cell_type": "code",
   "execution_count": 4,
   "id": "bbb2cb5a",
   "metadata": {},
   "outputs": [
    {
     "data": {
      "text/plain": [
       "array([[30.63],\n",
       "       [30.32],\n",
       "       [29.14],\n",
       "       [28.62],\n",
       "       [28.42],\n",
       "       [28.81],\n",
       "       [30.01],\n",
       "       [30.18],\n",
       "       [30.68],\n",
       "       [30.57],\n",
       "       [30.27],\n",
       "       [29.55],\n",
       "       [29.07],\n",
       "       [28.48],\n",
       "       [28.25],\n",
       "       [28.55],\n",
       "       [27.92],\n",
       "       [28.28],\n",
       "       [28.49],\n",
       "       [29.22],\n",
       "       [29.1 ],\n",
       "       [29.88],\n",
       "       [  nan],\n",
       "       [31.5 ],\n",
       "       [29.48],\n",
       "       [29.05],\n",
       "       [28.2 ],\n",
       "       [28.09],\n",
       "       [27.98],\n",
       "       [28.57],\n",
       "       [28.49],\n",
       "       [29.27],\n",
       "       [29.79],\n",
       "       [27.38],\n",
       "       [27.29],\n",
       "       [26.69],\n",
       "       [25.44],\n",
       "       [26.54],\n",
       "       [26.91],\n",
       "       [29.12],\n",
       "       [27.65],\n",
       "       [28.34],\n",
       "       [27.56],\n",
       "       [27.33],\n",
       "       [26.31],\n",
       "       [25.81],\n",
       "       [28.56],\n",
       "       [27.84],\n",
       "       [28.46],\n",
       "       [27.2 ],\n",
       "       [24.81],\n",
       "       [23.97],\n",
       "       [24.72],\n",
       "       [27.01],\n",
       "       [27.91],\n",
       "       [26.85],\n",
       "       [25.44],\n",
       "       [25.63],\n",
       "       [25.59],\n",
       "       [25.42],\n",
       "       [26.55],\n",
       "       [27.01],\n",
       "       [27.3 ],\n",
       "       [28.61],\n",
       "       [28.89],\n",
       "       [29.13],\n",
       "       [28.39],\n",
       "       [27.18],\n",
       "       [25.92],\n",
       "       [25.61],\n",
       "       [26.24],\n",
       "       [26.91],\n",
       "       [27.32],\n",
       "       [27.16],\n",
       "       [25.98],\n",
       "       [25.74],\n",
       "       [26.98],\n",
       "       [27.32],\n",
       "       [24.88],\n",
       "       [24.4 ],\n",
       "       [24.02],\n",
       "       [24.07],\n",
       "       [24.43],\n",
       "       [25.82],\n",
       "       [25.79],\n",
       "       [27.58],\n",
       "       [29.14],\n",
       "       [28.1 ],\n",
       "       [26.94],\n",
       "       [26.64],\n",
       "       [27.15],\n",
       "       [28.8 ],\n",
       "       [28.3 ],\n",
       "       [27.71],\n",
       "       [26.55],\n",
       "       [26.9 ],\n",
       "       [26.81],\n",
       "       [26.86],\n",
       "       [26.93],\n",
       "       [26.61],\n",
       "       [  nan],\n",
       "       [  nan],\n",
       "       [  nan],\n",
       "       [  nan],\n",
       "       [  nan],\n",
       "       [  nan],\n",
       "       [  nan],\n",
       "       [  nan],\n",
       "       [  nan],\n",
       "       [29.79],\n",
       "       [28.87],\n",
       "       [29.83],\n",
       "       [30.  ],\n",
       "       [30.15],\n",
       "       [29.89],\n",
       "       [29.75],\n",
       "       [29.88],\n",
       "       [29.9 ],\n",
       "       [28.83],\n",
       "       [29.35],\n",
       "       [28.68],\n",
       "       [28.96],\n",
       "       [  nan],\n",
       "       [  nan],\n",
       "       [  nan],\n",
       "       [  nan],\n",
       "       [  nan],\n",
       "       [  nan],\n",
       "       [  nan],\n",
       "       [  nan],\n",
       "       [  nan],\n",
       "       [  nan],\n",
       "       [  nan],\n",
       "       [  nan],\n",
       "       [  nan],\n",
       "       [  nan],\n",
       "       [31.89],\n",
       "       [32.53],\n",
       "       [34.74],\n",
       "       [33.56],\n",
       "       [30.8 ],\n",
       "       [30.57],\n",
       "       [29.71],\n",
       "       [29.39],\n",
       "       [30.17],\n",
       "       [30.08],\n",
       "       [29.39],\n",
       "       [30.24],\n",
       "       [30.34],\n",
       "       [31.25],\n",
       "       [31.03],\n",
       "       [30.31],\n",
       "       [30.22],\n",
       "       [30.1 ],\n",
       "       [30.74],\n",
       "       [31.85],\n",
       "       [32.12],\n",
       "       [31.97],\n",
       "       [31.49],\n",
       "       [30.69],\n",
       "       [30.96],\n",
       "       [31.94],\n",
       "       [31.44],\n",
       "       [31.16],\n",
       "       [30.85],\n",
       "       [31.25],\n",
       "       [31.39],\n",
       "       [30.89],\n",
       "       [32.13],\n",
       "       [32.31],\n",
       "       [32.07],\n",
       "       [31.88],\n",
       "       [32.09],\n",
       "       [50.07],\n",
       "       [54.18],\n",
       "       [47.5 ],\n",
       "       [57.76],\n",
       "       [57.9 ],\n",
       "       [  nan],\n",
       "       [  nan],\n",
       "       [57.9 ],\n",
       "       [  nan],\n",
       "       [57.9 ],\n",
       "       [57.9 ],\n",
       "       [  nan],\n",
       "       [  nan],\n",
       "       [57.9 ],\n",
       "       [  nan],\n",
       "       [57.9 ],\n",
       "       [  nan],\n",
       "       [57.9 ],\n",
       "       [57.9 ],\n",
       "       [57.9 ],\n",
       "       [  nan],\n",
       "       [57.9 ],\n",
       "       [57.9 ],\n",
       "       [57.9 ],\n",
       "       [57.9 ],\n",
       "       [57.9 ],\n",
       "       [57.9 ],\n",
       "       [57.9 ],\n",
       "       [57.9 ],\n",
       "       [57.9 ],\n",
       "       [57.9 ],\n",
       "       [57.9 ],\n",
       "       [57.9 ],\n",
       "       [57.9 ],\n",
       "       [57.9 ],\n",
       "       [57.9 ],\n",
       "       [57.9 ],\n",
       "       [50.14],\n",
       "       [57.9 ],\n",
       "       [52.75],\n",
       "       [57.9 ],\n",
       "       [57.9 ],\n",
       "       [57.9 ],\n",
       "       [57.9 ],\n",
       "       [57.9 ],\n",
       "       [57.9 ],\n",
       "       [57.9 ],\n",
       "       [57.9 ],\n",
       "       [44.4 ],\n",
       "       [31.43],\n",
       "       [32.2 ],\n",
       "       [32.2 ],\n",
       "       [32.23],\n",
       "       [30.3 ],\n",
       "       [42.55],\n",
       "       [57.9 ],\n",
       "       [57.9 ],\n",
       "       [57.9 ],\n",
       "       [57.43],\n",
       "       [55.36],\n",
       "       [48.14],\n",
       "       [56.29],\n",
       "       [51.78],\n",
       "       [ 3.84],\n",
       "       [ 3.85],\n",
       "       [ 2.14],\n",
       "       [13.66],\n",
       "       [25.2 ],\n",
       "       [14.29],\n",
       "       [20.57],\n",
       "       [29.03],\n",
       "       [29.03],\n",
       "       [29.03],\n",
       "       [27.3 ],\n",
       "       [28.38],\n",
       "       [26.31],\n",
       "       [20.97],\n",
       "       [20.31],\n",
       "       [45.94],\n",
       "       [26.75],\n",
       "       [22.45],\n",
       "       [26.57],\n",
       "       [26.66],\n",
       "       [26.47],\n",
       "       [26.75],\n",
       "       [26.75],\n",
       "       [26.75],\n",
       "       [55.  ],\n",
       "       [57.9 ],\n",
       "       [57.9 ],\n",
       "       [57.65],\n",
       "       [47.03],\n",
       "       [44.53],\n",
       "       [56.25],\n",
       "       [39.26],\n",
       "       [30.3 ],\n",
       "       [30.3 ],\n",
       "       [26.18],\n",
       "       [10.95],\n",
       "       [14.17],\n",
       "       [57.9 ],\n",
       "       [44.81],\n",
       "       [21.97],\n",
       "       [26.23],\n",
       "       [21.3 ],\n",
       "       [35.3 ],\n",
       "       [35.3 ],\n",
       "       [35.3 ],\n",
       "       [32.74],\n",
       "       [30.3 ],\n",
       "       [30.3 ],\n",
       "       [30.3 ],\n",
       "       [30.3 ],\n",
       "       [30.3 ],\n",
       "       [30.3 ],\n",
       "       [30.3 ],\n",
       "       [30.3 ],\n",
       "       [30.3 ],\n",
       "       [30.3 ],\n",
       "       [  nan],\n",
       "       [  nan],\n",
       "       [  nan],\n",
       "       [  nan],\n",
       "       [  nan],\n",
       "       [  nan],\n",
       "       [57.9 ],\n",
       "       [57.9 ],\n",
       "       [57.9 ],\n",
       "       [57.9 ],\n",
       "       [47.68],\n",
       "       [32.3 ],\n",
       "       [32.3 ],\n",
       "       [32.3 ],\n",
       "       [32.3 ],\n",
       "       [32.3 ],\n",
       "       [32.3 ],\n",
       "       [32.3 ],\n",
       "       [32.3 ],\n",
       "       [32.3 ],\n",
       "       [32.3 ],\n",
       "       [32.3 ],\n",
       "       [35.88],\n",
       "       [30.1 ],\n",
       "       [30.1 ],\n",
       "       [30.1 ],\n",
       "       [30.1 ],\n",
       "       [30.1 ],\n",
       "       [30.1 ],\n",
       "       [30.1 ],\n",
       "       [30.1 ],\n",
       "       [30.1 ],\n",
       "       [30.1 ],\n",
       "       [30.1 ],\n",
       "       [30.1 ],\n",
       "       [30.1 ],\n",
       "       [30.1 ],\n",
       "       [30.1 ],\n",
       "       [30.1 ],\n",
       "       [30.1 ],\n",
       "       [30.1 ],\n",
       "       [30.1 ],\n",
       "       [30.1 ],\n",
       "       [30.1 ],\n",
       "       [30.1 ],\n",
       "       [30.1 ],\n",
       "       [30.1 ],\n",
       "       [30.1 ],\n",
       "       [46.34],\n",
       "       [57.9 ],\n",
       "       [57.9 ],\n",
       "       [57.9 ],\n",
       "       [57.9 ],\n",
       "       [57.9 ],\n",
       "       [57.9 ],\n",
       "       [57.9 ],\n",
       "       [  nan],\n",
       "       [  nan],\n",
       "       [  nan],\n",
       "       [  nan],\n",
       "       [  nan],\n",
       "       [  nan],\n",
       "       [  nan],\n",
       "       [27.05],\n",
       "       [26.75],\n",
       "       [26.75],\n",
       "       [26.75],\n",
       "       [26.75],\n",
       "       [26.75],\n",
       "       [26.75],\n",
       "       [35.95],\n",
       "       [57.58],\n",
       "       [53.94],\n",
       "       [57.13],\n",
       "       [57.9 ],\n",
       "       [51.37],\n",
       "       [57.9 ],\n",
       "       [57.9 ],\n",
       "       [57.9 ],\n",
       "       [57.9 ],\n",
       "       [57.9 ],\n",
       "       [55.74],\n",
       "       [57.9 ],\n",
       "       [52.14],\n",
       "       [55.05],\n",
       "       [57.9 ],\n",
       "       [57.9 ],\n",
       "       [57.9 ],\n",
       "       [57.9 ],\n",
       "       [57.91],\n",
       "       [57.9 ],\n",
       "       [57.9 ],\n",
       "       [57.9 ],\n",
       "       [57.9 ],\n",
       "       [57.9 ],\n",
       "       [57.9 ],\n",
       "       [57.9 ],\n",
       "       [57.9 ],\n",
       "       [57.9 ],\n",
       "       [57.9 ],\n",
       "       [57.9 ],\n",
       "       [57.9 ],\n",
       "       [57.9 ],\n",
       "       [57.9 ],\n",
       "       [57.9 ],\n",
       "       [57.9 ],\n",
       "       [57.9 ],\n",
       "       [57.9 ],\n",
       "       [57.9 ],\n",
       "       [57.9 ],\n",
       "       [57.9 ],\n",
       "       [57.9 ],\n",
       "       [57.9 ],\n",
       "       [57.9 ],\n",
       "       [57.9 ],\n",
       "       [57.9 ],\n",
       "       [57.9 ],\n",
       "       [57.9 ],\n",
       "       [57.9 ],\n",
       "       [57.9 ]])"
      ]
     },
     "execution_count": 4,
     "metadata": {},
     "output_type": "execute_result"
    }
   ],
   "source": [
    "y=dataset.iloc[:,0:1].values\n",
    "y"
   ]
  },
  {
   "cell_type": "code",
   "execution_count": 5,
   "id": "581854a6",
   "metadata": {},
   "outputs": [
    {
     "data": {
      "text/plain": [
       "array([[5.7080e+01, 3.6000e-01, 1.9240e+02, 1.2621e+02],\n",
       "       [5.4630e+01, 2.4000e-01, 1.7527e+02, 1.2208e+02],\n",
       "       [5.5540e+01, 1.3000e-01, 1.6514e+02, 1.3191e+02],\n",
       "       ...,\n",
       "       [7.6280e+01, 1.0000e-01, 2.1740e+01, 6.6460e+01],\n",
       "       [7.5170e+01, 1.0000e-01, 3.1340e+01, 3.9680e+01],\n",
       "       [8.3080e+01, 1.0000e-01, 4.9420e+01, 4.4370e+01]])"
      ]
     },
     "execution_count": 5,
     "metadata": {},
     "output_type": "execute_result"
    }
   ],
   "source": [
    "x=dataset.iloc[:,1:].values\n",
    "x"
   ]
  },
  {
   "cell_type": "code",
   "execution_count": 6,
   "id": "795c6f2d",
   "metadata": {},
   "outputs": [
    {
     "name": "stdout",
     "output_type": "stream",
     "text": [
      "[[5.7080e+01 3.6000e-01 1.9240e+02 1.2621e+02]\n",
      " [5.4630e+01 2.4000e-01 1.7527e+02 1.2208e+02]\n",
      " [5.5540e+01 1.3000e-01 1.6514e+02 1.3191e+02]\n",
      " ...\n",
      " [7.6280e+01 1.0000e-01 2.1740e+01 6.6460e+01]\n",
      " [7.5170e+01 1.0000e-01 3.1340e+01 3.9680e+01]\n",
      " [8.3080e+01 1.0000e-01 4.9420e+01 4.4370e+01]]\n"
     ]
    }
   ],
   "source": [
    "from sklearn.impute import SimpleImputer\n",
    "imputer=SimpleImputer(missing_values=np.NaN,strategy='mean')\n",
    "imputer=imputer.fit(x[:,:])\n",
    "x[:,:]=imputer.transform(x[:,:])\n",
    "print(x)"
   ]
  },
  {
   "cell_type": "code",
   "execution_count": 7,
   "id": "a5f6bf4b",
   "metadata": {},
   "outputs": [],
   "source": [
    "from sklearn.preprocessing import StandardScaler\n",
    "scale = StandardScaler()"
   ]
  },
  {
   "cell_type": "code",
   "execution_count": 8,
   "id": "bbe2c447",
   "metadata": {},
   "outputs": [],
   "source": [
    "X = scale.fit_transform(x)"
   ]
  },
  {
   "cell_type": "code",
   "execution_count": 9,
   "id": "df29cb80",
   "metadata": {},
   "outputs": [
    {
     "name": "stdout",
     "output_type": "stream",
     "text": [
      "[[-1.6173783   0.53525123  1.16805391  0.0697121 ]\n",
      " [-1.80909078  0.13914193  0.94428418  0.00253885]\n",
      " [-1.73788329 -0.22395825  0.81195567  0.16242095]\n",
      " ...\n",
      " [-0.11497845 -0.32298558 -1.06128303 -0.90210434]\n",
      " [-0.20183594 -0.32298558 -0.93587792 -1.33767328]\n",
      " [ 0.4171215  -0.32298558 -0.69969832 -1.26139179]]\n"
     ]
    }
   ],
   "source": [
    "print(X)"
   ]
  },
  {
   "cell_type": "code",
   "execution_count": 10,
   "id": "e8ac6c89",
   "metadata": {},
   "outputs": [
    {
     "data": {
      "text/plain": [
       "array([[30.63      ],\n",
       "       [30.32      ],\n",
       "       [29.14      ],\n",
       "       [28.62      ],\n",
       "       [28.42      ],\n",
       "       [28.81      ],\n",
       "       [30.01      ],\n",
       "       [30.18      ],\n",
       "       [30.68      ],\n",
       "       [30.57      ],\n",
       "       [30.27      ],\n",
       "       [29.55      ],\n",
       "       [29.07      ],\n",
       "       [28.48      ],\n",
       "       [28.25      ],\n",
       "       [28.55      ],\n",
       "       [27.92      ],\n",
       "       [28.28      ],\n",
       "       [28.49      ],\n",
       "       [29.22      ],\n",
       "       [29.1       ],\n",
       "       [29.88      ],\n",
       "       [37.71354223],\n",
       "       [31.5       ],\n",
       "       [29.48      ],\n",
       "       [29.05      ],\n",
       "       [28.2       ],\n",
       "       [28.09      ],\n",
       "       [27.98      ],\n",
       "       [28.57      ],\n",
       "       [28.49      ],\n",
       "       [29.27      ],\n",
       "       [29.79      ],\n",
       "       [27.38      ],\n",
       "       [27.29      ],\n",
       "       [26.69      ],\n",
       "       [25.44      ],\n",
       "       [26.54      ],\n",
       "       [26.91      ],\n",
       "       [29.12      ],\n",
       "       [27.65      ],\n",
       "       [28.34      ],\n",
       "       [27.56      ],\n",
       "       [27.33      ],\n",
       "       [26.31      ],\n",
       "       [25.81      ],\n",
       "       [28.56      ],\n",
       "       [27.84      ],\n",
       "       [28.46      ],\n",
       "       [27.2       ],\n",
       "       [24.81      ],\n",
       "       [23.97      ],\n",
       "       [24.72      ],\n",
       "       [27.01      ],\n",
       "       [27.91      ],\n",
       "       [26.85      ],\n",
       "       [25.44      ],\n",
       "       [25.63      ],\n",
       "       [25.59      ],\n",
       "       [25.42      ],\n",
       "       [26.55      ],\n",
       "       [27.01      ],\n",
       "       [27.3       ],\n",
       "       [28.61      ],\n",
       "       [28.89      ],\n",
       "       [29.13      ],\n",
       "       [28.39      ],\n",
       "       [27.18      ],\n",
       "       [25.92      ],\n",
       "       [25.61      ],\n",
       "       [26.24      ],\n",
       "       [26.91      ],\n",
       "       [27.32      ],\n",
       "       [27.16      ],\n",
       "       [25.98      ],\n",
       "       [25.74      ],\n",
       "       [26.98      ],\n",
       "       [27.32      ],\n",
       "       [24.88      ],\n",
       "       [24.4       ],\n",
       "       [24.02      ],\n",
       "       [24.07      ],\n",
       "       [24.43      ],\n",
       "       [25.82      ],\n",
       "       [25.79      ],\n",
       "       [27.58      ],\n",
       "       [29.14      ],\n",
       "       [28.1       ],\n",
       "       [26.94      ],\n",
       "       [26.64      ],\n",
       "       [27.15      ],\n",
       "       [28.8       ],\n",
       "       [28.3       ],\n",
       "       [27.71      ],\n",
       "       [26.55      ],\n",
       "       [26.9       ],\n",
       "       [26.81      ],\n",
       "       [26.86      ],\n",
       "       [26.93      ],\n",
       "       [26.61      ],\n",
       "       [37.71354223],\n",
       "       [37.71354223],\n",
       "       [37.71354223],\n",
       "       [37.71354223],\n",
       "       [37.71354223],\n",
       "       [37.71354223],\n",
       "       [37.71354223],\n",
       "       [37.71354223],\n",
       "       [37.71354223],\n",
       "       [29.79      ],\n",
       "       [28.87      ],\n",
       "       [29.83      ],\n",
       "       [30.        ],\n",
       "       [30.15      ],\n",
       "       [29.89      ],\n",
       "       [29.75      ],\n",
       "       [29.88      ],\n",
       "       [29.9       ],\n",
       "       [28.83      ],\n",
       "       [29.35      ],\n",
       "       [28.68      ],\n",
       "       [28.96      ],\n",
       "       [37.71354223],\n",
       "       [37.71354223],\n",
       "       [37.71354223],\n",
       "       [37.71354223],\n",
       "       [37.71354223],\n",
       "       [37.71354223],\n",
       "       [37.71354223],\n",
       "       [37.71354223],\n",
       "       [37.71354223],\n",
       "       [37.71354223],\n",
       "       [37.71354223],\n",
       "       [37.71354223],\n",
       "       [37.71354223],\n",
       "       [37.71354223],\n",
       "       [31.89      ],\n",
       "       [32.53      ],\n",
       "       [34.74      ],\n",
       "       [33.56      ],\n",
       "       [30.8       ],\n",
       "       [30.57      ],\n",
       "       [29.71      ],\n",
       "       [29.39      ],\n",
       "       [30.17      ],\n",
       "       [30.08      ],\n",
       "       [29.39      ],\n",
       "       [30.24      ],\n",
       "       [30.34      ],\n",
       "       [31.25      ],\n",
       "       [31.03      ],\n",
       "       [30.31      ],\n",
       "       [30.22      ],\n",
       "       [30.1       ],\n",
       "       [30.74      ],\n",
       "       [31.85      ],\n",
       "       [32.12      ],\n",
       "       [31.97      ],\n",
       "       [31.49      ],\n",
       "       [30.69      ],\n",
       "       [30.96      ],\n",
       "       [31.94      ],\n",
       "       [31.44      ],\n",
       "       [31.16      ],\n",
       "       [30.85      ],\n",
       "       [31.25      ],\n",
       "       [31.39      ],\n",
       "       [30.89      ],\n",
       "       [32.13      ],\n",
       "       [32.31      ],\n",
       "       [32.07      ],\n",
       "       [31.88      ],\n",
       "       [32.09      ],\n",
       "       [50.07      ],\n",
       "       [54.18      ],\n",
       "       [47.5       ],\n",
       "       [57.76      ],\n",
       "       [57.9       ],\n",
       "       [37.71354223],\n",
       "       [37.71354223],\n",
       "       [57.9       ],\n",
       "       [37.71354223],\n",
       "       [57.9       ],\n",
       "       [57.9       ],\n",
       "       [37.71354223],\n",
       "       [37.71354223],\n",
       "       [57.9       ],\n",
       "       [37.71354223],\n",
       "       [57.9       ],\n",
       "       [37.71354223],\n",
       "       [57.9       ],\n",
       "       [57.9       ],\n",
       "       [57.9       ],\n",
       "       [37.71354223],\n",
       "       [57.9       ],\n",
       "       [57.9       ],\n",
       "       [57.9       ],\n",
       "       [57.9       ],\n",
       "       [57.9       ],\n",
       "       [57.9       ],\n",
       "       [57.9       ],\n",
       "       [57.9       ],\n",
       "       [57.9       ],\n",
       "       [57.9       ],\n",
       "       [57.9       ],\n",
       "       [57.9       ],\n",
       "       [57.9       ],\n",
       "       [57.9       ],\n",
       "       [57.9       ],\n",
       "       [57.9       ],\n",
       "       [50.14      ],\n",
       "       [57.9       ],\n",
       "       [52.75      ],\n",
       "       [57.9       ],\n",
       "       [57.9       ],\n",
       "       [57.9       ],\n",
       "       [57.9       ],\n",
       "       [57.9       ],\n",
       "       [57.9       ],\n",
       "       [57.9       ],\n",
       "       [57.9       ],\n",
       "       [44.4       ],\n",
       "       [31.43      ],\n",
       "       [32.2       ],\n",
       "       [32.2       ],\n",
       "       [32.23      ],\n",
       "       [30.3       ],\n",
       "       [42.55      ],\n",
       "       [57.9       ],\n",
       "       [57.9       ],\n",
       "       [57.9       ],\n",
       "       [57.43      ],\n",
       "       [55.36      ],\n",
       "       [48.14      ],\n",
       "       [56.29      ],\n",
       "       [51.78      ],\n",
       "       [ 3.84      ],\n",
       "       [ 3.85      ],\n",
       "       [ 2.14      ],\n",
       "       [13.66      ],\n",
       "       [25.2       ],\n",
       "       [14.29      ],\n",
       "       [20.57      ],\n",
       "       [29.03      ],\n",
       "       [29.03      ],\n",
       "       [29.03      ],\n",
       "       [27.3       ],\n",
       "       [28.38      ],\n",
       "       [26.31      ],\n",
       "       [20.97      ],\n",
       "       [20.31      ],\n",
       "       [45.94      ],\n",
       "       [26.75      ],\n",
       "       [22.45      ],\n",
       "       [26.57      ],\n",
       "       [26.66      ],\n",
       "       [26.47      ],\n",
       "       [26.75      ],\n",
       "       [26.75      ],\n",
       "       [26.75      ],\n",
       "       [55.        ],\n",
       "       [57.9       ],\n",
       "       [57.9       ],\n",
       "       [57.65      ],\n",
       "       [47.03      ],\n",
       "       [44.53      ],\n",
       "       [56.25      ],\n",
       "       [39.26      ],\n",
       "       [30.3       ],\n",
       "       [30.3       ],\n",
       "       [26.18      ],\n",
       "       [10.95      ],\n",
       "       [14.17      ],\n",
       "       [57.9       ],\n",
       "       [44.81      ],\n",
       "       [21.97      ],\n",
       "       [26.23      ],\n",
       "       [21.3       ],\n",
       "       [35.3       ],\n",
       "       [35.3       ],\n",
       "       [35.3       ],\n",
       "       [32.74      ],\n",
       "       [30.3       ],\n",
       "       [30.3       ],\n",
       "       [30.3       ],\n",
       "       [30.3       ],\n",
       "       [30.3       ],\n",
       "       [30.3       ],\n",
       "       [30.3       ],\n",
       "       [30.3       ],\n",
       "       [30.3       ],\n",
       "       [30.3       ],\n",
       "       [37.71354223],\n",
       "       [37.71354223],\n",
       "       [37.71354223],\n",
       "       [37.71354223],\n",
       "       [37.71354223],\n",
       "       [37.71354223],\n",
       "       [57.9       ],\n",
       "       [57.9       ],\n",
       "       [57.9       ],\n",
       "       [57.9       ],\n",
       "       [47.68      ],\n",
       "       [32.3       ],\n",
       "       [32.3       ],\n",
       "       [32.3       ],\n",
       "       [32.3       ],\n",
       "       [32.3       ],\n",
       "       [32.3       ],\n",
       "       [32.3       ],\n",
       "       [32.3       ],\n",
       "       [32.3       ],\n",
       "       [32.3       ],\n",
       "       [32.3       ],\n",
       "       [35.88      ],\n",
       "       [30.1       ],\n",
       "       [30.1       ],\n",
       "       [30.1       ],\n",
       "       [30.1       ],\n",
       "       [30.1       ],\n",
       "       [30.1       ],\n",
       "       [30.1       ],\n",
       "       [30.1       ],\n",
       "       [30.1       ],\n",
       "       [30.1       ],\n",
       "       [30.1       ],\n",
       "       [30.1       ],\n",
       "       [30.1       ],\n",
       "       [30.1       ],\n",
       "       [30.1       ],\n",
       "       [30.1       ],\n",
       "       [30.1       ],\n",
       "       [30.1       ],\n",
       "       [30.1       ],\n",
       "       [30.1       ],\n",
       "       [30.1       ],\n",
       "       [30.1       ],\n",
       "       [30.1       ],\n",
       "       [30.1       ],\n",
       "       [30.1       ],\n",
       "       [46.34      ],\n",
       "       [57.9       ],\n",
       "       [57.9       ],\n",
       "       [57.9       ],\n",
       "       [57.9       ],\n",
       "       [57.9       ],\n",
       "       [57.9       ],\n",
       "       [57.9       ],\n",
       "       [37.71354223],\n",
       "       [37.71354223],\n",
       "       [37.71354223],\n",
       "       [37.71354223],\n",
       "       [37.71354223],\n",
       "       [37.71354223],\n",
       "       [37.71354223],\n",
       "       [27.05      ],\n",
       "       [26.75      ],\n",
       "       [26.75      ],\n",
       "       [26.75      ],\n",
       "       [26.75      ],\n",
       "       [26.75      ],\n",
       "       [26.75      ],\n",
       "       [35.95      ],\n",
       "       [57.58      ],\n",
       "       [53.94      ],\n",
       "       [57.13      ],\n",
       "       [57.9       ],\n",
       "       [51.37      ],\n",
       "       [57.9       ],\n",
       "       [57.9       ],\n",
       "       [57.9       ],\n",
       "       [57.9       ],\n",
       "       [57.9       ],\n",
       "       [55.74      ],\n",
       "       [57.9       ],\n",
       "       [52.14      ],\n",
       "       [55.05      ],\n",
       "       [57.9       ],\n",
       "       [57.9       ],\n",
       "       [57.9       ],\n",
       "       [57.9       ],\n",
       "       [57.91      ],\n",
       "       [57.9       ],\n",
       "       [57.9       ],\n",
       "       [57.9       ],\n",
       "       [57.9       ],\n",
       "       [57.9       ],\n",
       "       [57.9       ],\n",
       "       [57.9       ],\n",
       "       [57.9       ],\n",
       "       [57.9       ],\n",
       "       [57.9       ],\n",
       "       [57.9       ],\n",
       "       [57.9       ],\n",
       "       [57.9       ],\n",
       "       [57.9       ],\n",
       "       [57.9       ],\n",
       "       [57.9       ],\n",
       "       [57.9       ],\n",
       "       [57.9       ],\n",
       "       [57.9       ],\n",
       "       [57.9       ],\n",
       "       [57.9       ],\n",
       "       [57.9       ],\n",
       "       [57.9       ],\n",
       "       [57.9       ],\n",
       "       [57.9       ],\n",
       "       [57.9       ],\n",
       "       [57.9       ],\n",
       "       [57.9       ],\n",
       "       [57.9       ],\n",
       "       [57.9       ]])"
      ]
     },
     "execution_count": 10,
     "metadata": {},
     "output_type": "execute_result"
    }
   ],
   "source": [
    "imputer=imputer.fit(y[:,:])\n",
    "y[:,:]=imputer.transform(y[:,:])\n",
    "y"
   ]
  },
  {
   "cell_type": "code",
   "execution_count": 11,
   "id": "e5925196",
   "metadata": {},
   "outputs": [],
   "source": [
    "from sklearn.model_selection import train_test_split\n",
    "x_train, x_test, y_train, y_test = train_test_split(X,y,train_size=0.9,random_state=0)"
   ]
  },
  {
   "cell_type": "code",
   "execution_count": 12,
   "id": "e054486b",
   "metadata": {},
   "outputs": [
    {
     "data": {
      "text/plain": [
       "LinearRegression()"
      ]
     },
     "execution_count": 12,
     "metadata": {},
     "output_type": "execute_result"
    }
   ],
   "source": [
    "from sklearn import linear_model\n",
    "reg=linear_model.LinearRegression()\n",
    "reg.fit(x_train,y_train)"
   ]
  },
  {
   "cell_type": "code",
   "execution_count": 13,
   "id": "349bd732",
   "metadata": {},
   "outputs": [
    {
     "name": "stdout",
     "output_type": "stream",
     "text": [
      "[array([-1.80909078,  0.13914193,  0.94428418,  0.00253885])]\n"
     ]
    }
   ],
   "source": [
    "scaled = scale.transform([[54.63,0.24,175.27,122.08]])\n",
    "print([scaled[0]])"
   ]
  },
  {
   "cell_type": "code",
   "execution_count": 14,
   "id": "56954f20",
   "metadata": {},
   "outputs": [
    {
     "name": "stdout",
     "output_type": "stream",
     "text": [
      "[[34.76719264]]\n"
     ]
    }
   ],
   "source": [
    "temp=reg.predict([scaled[0]])\n",
    "print(temp)"
   ]
  },
  {
   "cell_type": "code",
   "execution_count": 15,
   "id": "7ec06912",
   "metadata": {},
   "outputs": [],
   "source": [
    "x_true = scale.fit_transform(x_test)"
   ]
  },
  {
   "cell_type": "code",
   "execution_count": 16,
   "id": "7b2bb9a0",
   "metadata": {},
   "outputs": [
    {
     "name": "stdout",
     "output_type": "stream",
     "text": [
      "[[49.78702919]\n",
      " [35.3812108 ]\n",
      " [34.80435385]\n",
      " [37.9028769 ]\n",
      " [38.29442138]\n",
      " [37.71187516]\n",
      " [36.14652476]\n",
      " [37.97059351]\n",
      " [36.54520187]\n",
      " [44.31458286]\n",
      " [40.54345785]\n",
      " [38.11941133]\n",
      " [34.16242873]\n",
      " [10.6369729 ]\n",
      " [40.49184718]\n",
      " [36.49548732]\n",
      " [40.63433989]\n",
      " [36.0712608 ]\n",
      " [37.11149764]\n",
      " [43.89724158]\n",
      " [35.44228246]\n",
      " [40.27710345]\n",
      " [32.80578234]\n",
      " [38.85984814]\n",
      " [35.9498519 ]\n",
      " [41.19139542]\n",
      " [43.02729106]\n",
      " [38.15468618]\n",
      " [37.98397152]\n",
      " [37.84332288]\n",
      " [37.68717233]\n",
      " [33.68529435]\n",
      " [34.80861925]\n",
      " [35.9234545 ]\n",
      " [38.65173567]\n",
      " [39.18513875]\n",
      " [42.75308664]\n",
      " [37.35092305]\n",
      " [35.30771336]\n",
      " [34.6934924 ]\n",
      " [38.62300884]\n",
      " [37.24229962]]\n"
     ]
    }
   ],
   "source": [
    "y_pred=reg.predict(x_true)\n",
    "print(y_pred)"
   ]
  },
  {
   "cell_type": "code",
   "execution_count": 17,
   "id": "8fe9f1ad",
   "metadata": {},
   "outputs": [],
   "source": [
    "from sklearn.metrics import mean_absolute_error"
   ]
  },
  {
   "cell_type": "code",
   "execution_count": 18,
   "id": "d4d0366e",
   "metadata": {},
   "outputs": [
    {
     "data": {
      "text/plain": [
       "13.643899217164828"
      ]
     },
     "execution_count": 18,
     "metadata": {},
     "output_type": "execute_result"
    }
   ],
   "source": [
    "mean_absolute_error(y_test, y_pred)"
   ]
  },
  {
   "cell_type": "code",
   "execution_count": 19,
   "id": "13fbb543",
   "metadata": {},
   "outputs": [],
   "source": [
    "from sklearn.metrics import mean_squared_error"
   ]
  },
  {
   "cell_type": "code",
   "execution_count": 20,
   "id": "ca503dff",
   "metadata": {},
   "outputs": [
    {
     "data": {
      "text/plain": [
       "16.06445705730579"
      ]
     },
     "execution_count": 20,
     "metadata": {},
     "output_type": "execute_result"
    }
   ],
   "source": [
    "mean_squared_error(y_test, y_pred, squared=False)"
   ]
  },
  {
   "cell_type": "code",
   "execution_count": 21,
   "id": "4fcf8041",
   "metadata": {},
   "outputs": [
    {
     "data": {
      "text/plain": [
       "258.0667805460218"
      ]
     },
     "execution_count": 21,
     "metadata": {},
     "output_type": "execute_result"
    }
   ],
   "source": [
    "mean_squared_error(y_test, y_pred)"
   ]
  },
  {
   "cell_type": "code",
   "execution_count": 22,
   "id": "48231047",
   "metadata": {},
   "outputs": [],
   "source": [
    "from sklearn.metrics import mean_squared_log_error"
   ]
  },
  {
   "cell_type": "code",
   "execution_count": 23,
   "id": "3dfc3115",
   "metadata": {},
   "outputs": [
    {
     "data": {
      "text/plain": [
       "0.32528062539571756"
      ]
     },
     "execution_count": 23,
     "metadata": {},
     "output_type": "execute_result"
    }
   ],
   "source": [
    "mean_squared_log_error(y_test, y_pred)"
   ]
  },
  {
   "cell_type": "code",
   "execution_count": 24,
   "id": "f83cf8f7",
   "metadata": {},
   "outputs": [
    {
     "data": {
      "text/plain": [
       "0.5703337841963402"
      ]
     },
     "execution_count": 24,
     "metadata": {},
     "output_type": "execute_result"
    }
   ],
   "source": [
    "mean_squared_log_error(y_test, y_pred, squared=False)"
   ]
  },
  {
   "cell_type": "code",
   "execution_count": 25,
   "id": "7fa37719",
   "metadata": {},
   "outputs": [],
   "source": [
    "from sklearn.metrics import mean_squared_error"
   ]
  },
  {
   "cell_type": "code",
   "execution_count": 26,
   "id": "6113e367",
   "metadata": {},
   "outputs": [
    {
     "data": {
      "text/plain": [
       "258.0667805460218"
      ]
     },
     "execution_count": 26,
     "metadata": {},
     "output_type": "execute_result"
    }
   ],
   "source": [
    "mean_squared_error(y_test, y_pred)"
   ]
  },
  {
   "cell_type": "code",
   "execution_count": 27,
   "id": "4617f2cd",
   "metadata": {},
   "outputs": [
    {
     "data": {
      "text/plain": [
       "16.06445705730579"
      ]
     },
     "execution_count": 27,
     "metadata": {},
     "output_type": "execute_result"
    }
   ],
   "source": [
    "mean_squared_error(y_test, y_pred, squared=False)"
   ]
  },
  {
   "cell_type": "code",
   "execution_count": 28,
   "id": "5b0c817f",
   "metadata": {},
   "outputs": [],
   "source": [
    "from sklearn.metrics import median_absolute_error"
   ]
  },
  {
   "cell_type": "code",
   "execution_count": 29,
   "id": "4da5450b",
   "metadata": {},
   "outputs": [
    {
     "data": {
      "text/plain": [
       "12.117654231487707"
      ]
     },
     "execution_count": 29,
     "metadata": {},
     "output_type": "execute_result"
    }
   ],
   "source": [
    "median_absolute_error(y_test, y_pred)"
   ]
  },
  {
   "cell_type": "code",
   "execution_count": 30,
   "id": "ddabdd42",
   "metadata": {},
   "outputs": [],
   "source": [
    "from sklearn.metrics import r2_score"
   ]
  },
  {
   "cell_type": "code",
   "execution_count": 31,
   "id": "15a11965",
   "metadata": {},
   "outputs": [
    {
     "data": {
      "text/plain": [
       "-0.06403260080744033"
      ]
     },
     "execution_count": 31,
     "metadata": {},
     "output_type": "execute_result"
    }
   ],
   "source": [
    "r2_score(y_test, y_pred)"
   ]
  },
  {
   "cell_type": "code",
   "execution_count": 41,
   "id": "eb949776",
   "metadata": {},
   "outputs": [
    {
     "data": {
      "image/png": "[encoded data removed]",
      "text/plain": [
       "<Figure size 432x288 with 1 Axes>"
      ]
     },
     "metadata": {
      "needs_background": "light"
     },
     "output_type": "display_data"
    }
   ],
   "source": [
    "%matplotlib inline \n",
    "plt.plot(abs(y_test-y_pred))\n",
    "plt.show()"
   ]
  },
  {
   "cell_type": "code",
   "execution_count": null,
   "id": "76dd7e38",
   "metadata": {},
   "outputs": [],
   "source": []
  }
 ],
 "metadata": {
  "kernelspec": {
   "display_name": "Python 3 (ipykernel)",
   "language": "python",
   "name": "python3"
  },
  "language_info": {
   "codemirror_mode": {
    "name": "ipython",
    "version": 3
   },
   "file_extension": ".py",
   "mimetype": "text/x-python",
   "name": "python",
   "nbconvert_exporter": "python",
   "pygments_lexer": "ipython3",
   "version": "3.9.12"
  }
 },
 "nbformat": 4,
 "nbformat_minor": 5
}
