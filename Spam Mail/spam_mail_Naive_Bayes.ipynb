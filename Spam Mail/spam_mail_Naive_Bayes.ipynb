{
 "cells": [
  {
   "cell_type": "markdown",
   "metadata": {
    "id": "I05jhOBIFOs3"
   },
   "source": [
    "SPAM mail prediction"
   ]
  },
  {
   "cell_type": "code",
   "execution_count": 1,
   "metadata": {
    "executionInfo": {
     "elapsed": 1267,
     "status": "ok",
     "timestamp": 1675261255132,
     "user": {
      "displayName": "Rima Roy",
      "userId": "07394250201721668490"
     },
     "user_tz": -330
    },
    "id": "XbDlFjT9FU-5"
   },
   "outputs": [],
   "source": [
    "import numpy as np\n",
    "import pandas as pd\n",
    "from sklearn.model_selection import train_test_split\n",
    "from sklearn.feature_extraction.text import TfidfVectorizer\n",
    "from sklearn.naive_bayes import MultinomialNB\n",
    "from sklearn.metrics import accuracy_score , f1_score , precision_score , recall_score"
   ]
  },
  {
   "cell_type": "markdown",
   "metadata": {
    "id": "2KbQnJP-Gw2z"
   },
   "source": [
    "Data Collection"
   ]
  },
  {
   "cell_type": "code",
   "execution_count": 2,
   "metadata": {
    "executionInfo": {
     "elapsed": 42,
     "status": "ok",
     "timestamp": 1675261255134,
     "user": {
      "displayName": "Rima Roy",
      "userId": "07394250201721668490"
     },
     "user_tz": -330
    },
    "id": "cpBYuyigFn2V"
   },
   "outputs": [],
   "source": [
    "raw_mail_data=pd.read_csv(\"spam.csv\")"
   ]
  },
  {
   "cell_type": "markdown",
   "metadata": {
    "id": "XCr1Y74FXhDL"
   },
   "source": []
  },
  {
   "cell_type": "code",
   "execution_count": 3,
   "metadata": {
    "colab": {
     "base_uri": "https://localhost:8080/",
     "height": 206
    },
    "executionInfo": {
     "elapsed": 42,
     "status": "ok",
     "timestamp": 1675261255136,
     "user": {
      "displayName": "Rima Roy",
      "userId": "07394250201721668490"
     },
     "user_tz": -330
    },
    "id": "er_IND4DHRLK",
    "outputId": "496998bc-695b-45dd-ed6e-dc618656fe26"
   },
   "outputs": [
    {
     "data": {
      "text/html": [
       "<div>\n",
       "<style scoped>\n",
       "    .dataframe tbody tr th:only-of-type {\n",
       "        vertical-align: middle;\n",
       "    }\n",
       "\n",
       "    .dataframe tbody tr th {\n",
       "        vertical-align: top;\n",
       "    }\n",
       "\n",
       "    .dataframe thead th {\n",
       "        text-align: right;\n",
       "    }\n",
       "</style>\n",
       "<table border=\"1\" class=\"dataframe\">\n",
       "  <thead>\n",
       "    <tr style=\"text-align: right;\">\n",
       "      <th></th>\n",
       "      <th>Category</th>\n",
       "      <th>Message</th>\n",
       "    </tr>\n",
       "  </thead>\n",
       "  <tbody>\n",
       "    <tr>\n",
       "      <th>0</th>\n",
       "      <td>ham</td>\n",
       "      <td>Go until jurong point, crazy.. Available only ...</td>\n",
       "    </tr>\n",
       "    <tr>\n",
       "      <th>1</th>\n",
       "      <td>ham</td>\n",
       "      <td>Ok lar... Joking wif u oni...</td>\n",
       "    </tr>\n",
       "    <tr>\n",
       "      <th>2</th>\n",
       "      <td>spam</td>\n",
       "      <td>Free entry in 2 a wkly comp to win FA Cup fina...</td>\n",
       "    </tr>\n",
       "    <tr>\n",
       "      <th>3</th>\n",
       "      <td>ham</td>\n",
       "      <td>U dun say so early hor... U c already then say...</td>\n",
       "    </tr>\n",
       "    <tr>\n",
       "      <th>4</th>\n",
       "      <td>ham</td>\n",
       "      <td>Nah I don't think he goes to usf, he lives aro...</td>\n",
       "    </tr>\n",
       "  </tbody>\n",
       "</table>\n",
       "</div>"
      ],
      "text/plain": [
       "  Category                                            Message\n",
       "0      ham  Go until jurong point, crazy.. Available only ...\n",
       "1      ham                      Ok lar... Joking wif u oni...\n",
       "2     spam  Free entry in 2 a wkly comp to win FA Cup fina...\n",
       "3      ham  U dun say so early hor... U c already then say...\n",
       "4      ham  Nah I don't think he goes to usf, he lives aro..."
      ]
     },
     "execution_count": 3,
     "metadata": {},
     "output_type": "execute_result"
    }
   ],
   "source": [
    "raw_mail_data.head()"
   ]
  },
  {
   "cell_type": "code",
   "execution_count": 4,
   "metadata": {
    "executionInfo": {
     "elapsed": 41,
     "status": "ok",
     "timestamp": 1675261255138,
     "user": {
      "displayName": "Rima Roy",
      "userId": "07394250201721668490"
     },
     "user_tz": -330
    },
    "id": "FYLyCxGAHWaH"
   },
   "outputs": [],
   "source": [
    "#replace the null value with a null with a null string\n",
    "mail_data=raw_mail_data.where((pd.notnull(raw_mail_data)),'')"
   ]
  },
  {
   "cell_type": "code",
   "execution_count": 5,
   "metadata": {
    "colab": {
     "base_uri": "https://localhost:8080/"
    },
    "executionInfo": {
     "elapsed": 41,
     "status": "ok",
     "timestamp": 1675261255139,
     "user": {
      "displayName": "Rima Roy",
      "userId": "07394250201721668490"
     },
     "user_tz": -330
    },
    "id": "GAKyu9WQIM7N",
    "outputId": "1c4ad5e8-6b3f-4d41-a69f-af31f0539b9e"
   },
   "outputs": [
    {
     "name": "stdout",
     "output_type": "stream",
     "text": [
      "(5572, 2)\n",
      "(747, 2)\n",
      "(4825, 2)\n"
     ]
    }
   ],
   "source": [
    "#checking the number of row and column\n",
    "print(mail_data.shape)\n",
    "df=mail_data.groupby('Category')\n",
    "d1=df.get_group('spam')\n",
    "d2=df.get_group('ham')\n",
    "print(d1.shape)\n",
    "print(d2.shape)"
   ]
  },
  {
   "cell_type": "markdown",
   "metadata": {
    "id": "8OlqNGSiIh94"
   },
   "source": [
    "Lable encoding"
   ]
  },
  {
   "cell_type": "code",
   "execution_count": 6,
   "metadata": {
    "executionInfo": {
     "elapsed": 37,
     "status": "ok",
     "timestamp": 1675261255140,
     "user": {
      "displayName": "Rima Roy",
      "userId": "07394250201721668490"
     },
     "user_tz": -330
    },
    "id": "KNXCXzp3Id5g"
   },
   "outputs": [],
   "source": [
    "#lable spam mail as 0 and ham mail as 1\n",
    "mail_data.loc[mail_data['Category']=='spam','Category',]=0\n",
    "mail_data.loc[mail_data['Category']=='ham','Category',]=1"
   ]
  },
  {
   "cell_type": "code",
   "execution_count": 7,
   "metadata": {
    "executionInfo": {
     "elapsed": 38,
     "status": "ok",
     "timestamp": 1675261255141,
     "user": {
      "displayName": "Rima Roy",
      "userId": "07394250201721668490"
     },
     "user_tz": -330
    },
    "id": "39MRgb1wJNWc"
   },
   "outputs": [],
   "source": [
    "#separating the data as text and lable\n",
    "x=mail_data['Message']\n",
    "y=mail_data['Category']"
   ]
  },
  {
   "cell_type": "code",
   "execution_count": 8,
   "metadata": {
    "colab": {
     "base_uri": "https://localhost:8080/"
    },
    "executionInfo": {
     "elapsed": 38,
     "status": "ok",
     "timestamp": 1675261255142,
     "user": {
      "displayName": "Rima Roy",
      "userId": "07394250201721668490"
     },
     "user_tz": -330
    },
    "id": "ExAO4R6vJnjz",
    "outputId": "5763defe-de0e-44cb-c979-610afd01a794"
   },
   "outputs": [
    {
     "name": "stdout",
     "output_type": "stream",
     "text": [
      "0       Go until jurong point, crazy.. Available only ...\n",
      "1                           Ok lar... Joking wif u oni...\n",
      "2       Free entry in 2 a wkly comp to win FA Cup fina...\n",
      "3       U dun say so early hor... U c already then say...\n",
      "4       Nah I don't think he goes to usf, he lives aro...\n",
      "                              ...                        \n",
      "5567    This is the 2nd time we have tried 2 contact u...\n",
      "5568                 Will ü b going to esplanade fr home?\n",
      "5569    Pity, * was in mood for that. So...any other s...\n",
      "5570    The guy did some bitching but I acted like i'd...\n",
      "5571                           Rofl. Its true to its name\n",
      "Name: Message, Length: 5572, dtype: object\n",
      "0       1\n",
      "1       1\n",
      "2       0\n",
      "3       1\n",
      "4       1\n",
      "       ..\n",
      "5567    0\n",
      "5568    1\n",
      "5569    1\n",
      "5570    1\n",
      "5571    1\n",
      "Name: Category, Length: 5572, dtype: object\n"
     ]
    }
   ],
   "source": [
    "print(x)\n",
    "print(y)"
   ]
  },
  {
   "cell_type": "markdown",
   "metadata": {
    "id": "-z9ZlHkTLURi"
   },
   "source": [
    "spliting the data into training data and test data"
   ]
  },
  {
   "cell_type": "code",
   "execution_count": 23,
   "metadata": {
    "executionInfo": {
     "elapsed": 34,
     "status": "ok",
     "timestamp": 1675261255143,
     "user": {
      "displayName": "Rima Roy",
      "userId": "07394250201721668490"
     },
     "user_tz": -330
    },
    "id": "T5OV0i-HKDMs"
   },
   "outputs": [],
   "source": [
    "x_train,x_test,y_train,y_test=train_test_split(x,y,test_size=0.2,random_state=3)"
   ]
  },
  {
   "cell_type": "markdown",
   "metadata": {
    "id": "mS4DWY2CMDgz"
   },
   "source": [
    "feature extraction "
   ]
  },
  {
   "cell_type": "code",
   "execution_count": 24,
   "metadata": {
    "executionInfo": {
     "elapsed": 849,
     "status": "ok",
     "timestamp": 1675261255958,
     "user": {
      "displayName": "Rima Roy",
      "userId": "07394250201721668490"
     },
     "user_tz": -330
    },
    "id": "dv_vSfAsL0Mf"
   },
   "outputs": [],
   "source": [
    "#transform the text data to feature vectors that can be used as input to the naive bayes model\n",
    "feature=TfidfVectorizer(min_df=1,stop_words='english',lowercase='True')\n",
    "x_train_feature=feature.fit_transform(x_train)\n",
    "x_test_feature=feature.transform(x_test)\n",
    "#convert y_train and y_test values as integer\n",
    "y_train=y_train.astype('int')\n",
    "y_test=y_test.astype('int')"
   ]
  },
  {
   "cell_type": "markdown",
   "metadata": {
    "id": "FvPzJme5OUfO"
   },
   "source": [
    "model"
   ]
  },
  {
   "cell_type": "code",
   "execution_count": 25,
   "metadata": {
    "colab": {
     "base_uri": "https://localhost:8080/"
    },
    "executionInfo": {
     "elapsed": 23,
     "status": "ok",
     "timestamp": 1675261255959,
     "user": {
      "displayName": "Rima Roy",
      "userId": "07394250201721668490"
     },
     "user_tz": -330
    },
    "id": "ZzU2uvvINZSL",
    "outputId": "d2d5a357-985d-4534-b0fa-bbda95f3ce6f"
   },
   "outputs": [
    {
     "data": {
      "text/plain": [
       "MultinomialNB()"
      ]
     },
     "execution_count": 25,
     "metadata": {},
     "output_type": "execute_result"
    }
   ],
   "source": [
    "cls=MultinomialNB()\n",
    "cls.fit(x_train_feature,y_train)"
   ]
  },
  {
   "cell_type": "markdown",
   "metadata": {
    "id": "AjviWuWCO41H"
   },
   "source": [
    "accuracy on training data"
   ]
  },
  {
   "cell_type": "code",
   "execution_count": 26,
   "metadata": {
    "colab": {
     "base_uri": "https://localhost:8080/"
    },
    "executionInfo": {
     "elapsed": 20,
     "status": "ok",
     "timestamp": 1675261255959,
     "user": {
      "displayName": "Rima Roy",
      "userId": "07394250201721668490"
     },
     "user_tz": -330
    },
    "id": "hNc_yoDsO1dD",
    "outputId": "30316d1d-6826-4f13-c59a-f4f382abf732"
   },
   "outputs": [
    {
     "name": "stdout",
     "output_type": "stream",
     "text": [
      "accuracy score on training data  0.9807045097599282\n",
      "precision score on training data  0.9782333586433815\n",
      "recall score on training data  1.0\n",
      "f1 score on training data  0.9889969293756397\n"
     ]
    }
   ],
   "source": [
    "y_train_pred=cls.predict(x_train_feature)\n",
    "train_accu=accuracy_score(y_train,y_train_pred)\n",
    "train_pre=precision_score(y_train,y_train_pred)\n",
    "train_re=recall_score(y_train,y_train_pred)\n",
    "train_f1=f1_score(y_train,y_train_pred)\n",
    "print(\"accuracy score on training data \",train_accu)\n",
    "print(\"precision score on training data \",train_pre)\n",
    "print(\"recall score on training data \",train_re)\n",
    "print(\"f1 score on training data \",train_f1)"
   ]
  },
  {
   "cell_type": "markdown",
   "metadata": {
    "id": "DUz7n_pQRMPz"
   },
   "source": [
    "accuracy on test data"
   ]
  },
  {
   "cell_type": "code",
   "execution_count": 27,
   "metadata": {
    "colab": {
     "base_uri": "https://localhost:8080/"
    },
    "executionInfo": {
     "elapsed": 17,
     "status": "ok",
     "timestamp": 1675261255960,
     "user": {
      "displayName": "Rima Roy",
      "userId": "07394250201721668490"
     },
     "user_tz": -330
    },
    "id": "XM-KUNFYPwd8",
    "outputId": "509880fd-1d1f-4e93-f8f4-826abd5f9e19"
   },
   "outputs": [
    {
     "name": "stdout",
     "output_type": "stream",
     "text": [
      "accuracy score on test data  0.9730941704035875\n",
      "precision score on test data  0.9696969696969697\n",
      "recall score on test data  1.0\n",
      "f1 score on test data  0.9846153846153847\n"
     ]
    }
   ],
   "source": [
    "y_test_pred=cls.predict(x_test_feature)\n",
    "test_accu=accuracy_score(y_test,y_test_pred)\n",
    "test_pre=precision_score(y_test,y_test_pred)\n",
    "test_re=recall_score(y_test,y_test_pred)\n",
    "test_f1=f1_score(y_test,y_test_pred)\n",
    "print(\"accuracy score on test data \",test_accu)\n",
    "print(\"precision score on test data \",test_pre)\n",
    "print(\"recall score on test data \",test_re)\n",
    "print(\"f1 score on test data \",test_f1)"
   ]
  },
  {
   "cell_type": "markdown",
   "metadata": {
    "id": "p2XNL_UbUdXc"
   },
   "source": [
    "building a prediction system"
   ]
  },
  {
   "cell_type": "code",
   "execution_count": 28,
   "metadata": {
    "colab": {
     "base_uri": "https://localhost:8080/"
    },
    "executionInfo": {
     "elapsed": 15,
     "status": "ok",
     "timestamp": 1675261255961,
     "user": {
      "displayName": "Rima Roy",
      "userId": "07394250201721668490"
     },
     "user_tz": -330
    },
    "id": "D_VpSkuzSLR2",
    "outputId": "55c482dc-c93f-4557-b996-a4aa8d884f62"
   },
   "outputs": [
    {
     "name": "stdout",
     "output_type": "stream",
     "text": [
      "ham\n"
     ]
    }
   ],
   "source": [
    "input_mail=[\"Nah I don't think he goes to usf, he lives around here though\"]\n",
    "input_feature=feature.transform(input_mail)\n",
    "pred=cls.predict(input_feature)\n",
    "if(pred[0]==1):\n",
    "  print(\"ham\")\n",
    "else:\n",
    "  print(\"spam\")"
   ]
  },
  {
   "cell_type": "code",
   "execution_count": 28,
   "metadata": {
    "executionInfo": {
     "elapsed": 11,
     "status": "ok",
     "timestamp": 1675261255962,
     "user": {
      "displayName": "Rima Roy",
      "userId": "07394250201721668490"
     },
     "user_tz": -330
    },
    "id": "Q05j13DHWyTq"
   },
   "outputs": [],
   "source": []
  }
 ],
 "metadata": {
  "colab": {
   "authorship_tag": "ABX9TyMtrjYVWoIhv8Z/NkSC98r0",
   "provenance": []
  },
  "kernelspec": {
   "display_name": "Python 3 (ipykernel)",
   "language": "python",
   "name": "python3"
  },
  "language_info": {
   "codemirror_mode": {
    "name": "ipython",
    "version": 3
   },
   "file_extension": ".py",
   "mimetype": "text/x-python",
   "name": "python",
   "nbconvert_exporter": "python",
   "pygments_lexer": "ipython3",
   "version": "3.9.12"
  }
 },
 "nbformat": 4,
 "nbformat_minor": 1
}
